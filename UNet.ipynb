{
  "cells": [
    {
      "cell_type": "markdown",
      "metadata": {
        "id": "view-in-github",
        "colab_type": "text"
      },
      "source": [
        "<a href=\"https://colab.research.google.com/github/yasharzb/MNIST-Rotate-UNet/blob/main/UNet.ipynb\" target=\"_parent\"><img src=\"https://colab.research.google.com/assets/colab-badge.svg\" alt=\"Open In Colab\"/></a>"
      ]
    },
    {
      "cell_type": "markdown",
      "id": "8cfa3da4-eac9-4790-95b2-21f55bc165b8",
      "metadata": {
        "id": "8cfa3da4-eac9-4790-95b2-21f55bc165b8"
      },
      "source": [
        "Importing libraries\n",
        "==================="
      ]
    },
    {
      "cell_type": "code",
      "execution_count": 1,
      "id": "243889da-46a8-4bda-9913-b3199ba2d9ff",
      "metadata": {
        "id": "243889da-46a8-4bda-9913-b3199ba2d9ff"
      },
      "outputs": [],
      "source": [
        "import torch\n",
        "import torch.nn as nn\n",
        "import torchvision.transforms as transforms\n",
        "import torch.optim as optim\n",
        "import torch.nn.functional as func\n",
        "import torchvision.datasets as datasets\n",
        "import torchvision as torchvision\n",
        "from torchvision.utils import make_grid, save_image\n",
        "from torch.utils.data import DataLoader, Dataset\n",
        "from torch.autograd import Variable\n",
        "import numpy as np\n",
        "import matplotlib\n",
        "import random\n",
        "from matplotlib import pyplot as plt\n",
        "from torch.nn import MSELoss, CrossEntropyLoss, BCEWithLogitsLoss\n",
        "import torch.optim as optim\n",
        "from tqdm import tqdm\n",
        "import time"
      ]
    },
    {
      "cell_type": "code",
      "source": [
        "device = \"cuda\" if torch.cuda.is_available() else \"cpu\""
      ],
      "metadata": {
        "id": "l1frbAUj23yx"
      },
      "id": "l1frbAUj23yx",
      "execution_count": 2,
      "outputs": []
    },
    {
      "cell_type": "code",
      "execution_count": 3,
      "id": "2e717dac-7354-44fb-a7c0-b7529227122f",
      "metadata": {
        "id": "2e717dac-7354-44fb-a7c0-b7529227122f"
      },
      "outputs": [],
      "source": [
        "batch_size = 64\n",
        "mnist_size = 28\n",
        "base_transform = transform = transforms.Compose([transforms.ToTensor(), transforms.Normalize((0.5,),(0.5,)),])"
      ]
    },
    {
      "cell_type": "markdown",
      "id": "3f9b6f86-f314-4981-ae2d-c580e54ff7d7",
      "metadata": {
        "id": "3f9b6f86-f314-4981-ae2d-c580e54ff7d7"
      },
      "source": [
        "Creating models\n",
        "==============="
      ]
    },
    {
      "cell_type": "markdown",
      "id": "543a7f03-f767-4ce8-ac65-a1312f729098",
      "metadata": {
        "id": "543a7f03-f767-4ce8-ac65-a1312f729098"
      },
      "source": [
        "At first let's create a custom dataset based on MNIST. The input is the rotated image with a random angle and the output is the original"
      ]
    },
    {
      "cell_type": "code",
      "execution_count": 4,
      "id": "02b68e82-1399-4875-8adb-8cb31dd66280",
      "metadata": {
        "id": "02b68e82-1399-4875-8adb-8cb31dd66280"
      },
      "outputs": [],
      "source": [
        "class SegmentationMNIST(datasets.MNIST):\n",
        "    def __getitem__(self, index: int):\n",
        "        inp, tar = super(SegmentationMNIST, self).__getitem__(index)\n",
        "        angle = random.uniform(-90, 90)\n",
        "        tar = inp\n",
        "        inp = transforms.functional.rotate(inp, angle)\n",
        "        return inp, tar"
      ]
    },
    {
      "cell_type": "code",
      "execution_count": 5,
      "id": "2ca51cf0-4345-4411-85ff-7c85938392d6",
      "metadata": {
        "id": "2ca51cf0-4345-4411-85ff-7c85938392d6"
      },
      "outputs": [],
      "source": [
        "train_loader = DataLoader(SegmentationMNIST('./data', train=True, download=True, transform=base_transform), batch_size=batch_size, shuffle=True)\n",
        "test_loader = DataLoader(SegmentationMNIST('./data', train=False, download=True, transform=base_transform), batch_size=batch_size, shuffle=True)"
      ]
    },
    {
      "cell_type": "markdown",
      "id": "b9e0b5ce-58c2-4673-8efa-ffa0911cdb1b",
      "metadata": {
        "id": "b9e0b5ce-58c2-4673-8efa-ffa0911cdb1b"
      },
      "source": [
        "My network is a simpler implementation of UNet which goes like:\n",
        "\n",
        "<img src='./unet_small.png'>\n",
        "\n",
        "Which can be considered like this:\n",
        "\n",
        "<img src='./Unet-self.png'>"
      ]
    },
    {
      "cell_type": "code",
      "execution_count": 6,
      "id": "96786d81-960a-49b7-8beb-0ba37bb3be2d",
      "metadata": {
        "id": "96786d81-960a-49b7-8beb-0ba37bb3be2d"
      },
      "outputs": [],
      "source": [
        "class Block(nn.Module):\n",
        "    def __init__(self, in_ch, out_ch):\n",
        "        super(Block, self).__init__()\n",
        "        self.conv1 = nn.Conv2d(in_ch, out_ch, 3, padding=1)\n",
        "        self.conv2 = nn.Conv2d(out_ch, out_ch, 3, padding=1)\n",
        "    \n",
        "    def forward(self, x):\n",
        "        x = self.conv1(x)\n",
        "        x = func.relu(x)\n",
        "        x = self.conv2(x)\n",
        "        x = func.relu(x)\n",
        "        return x"
      ]
    },
    {
      "cell_type": "code",
      "execution_count": 7,
      "id": "8dcd9c53-535b-43b7-8b42-820d46b1f0de",
      "metadata": {
        "id": "8dcd9c53-535b-43b7-8b42-820d46b1f0de"
      },
      "outputs": [],
      "source": [
        "class Encoder(nn.Module):\n",
        "    def __init__(self, chs=(1, 32, 64)):\n",
        "        super().__init__()\n",
        "        self.enc_blocks = nn.ModuleList([Block(chs[i], chs[i+1]) for i in range(len(chs)-1)])\n",
        "        self.pool       = nn.MaxPool2d(2)\n",
        "    \n",
        "    def forward(self, x):\n",
        "        ftrs = []\n",
        "        for block in self.enc_blocks:\n",
        "            x = block(x)\n",
        "            ftrs.append(x)\n",
        "            x = self.pool(x)\n",
        "        return ftrs"
      ]
    },
    {
      "cell_type": "code",
      "execution_count": 8,
      "id": "22ef585f-b64f-4bd7-af73-d7af9b361985",
      "metadata": {
        "id": "22ef585f-b64f-4bd7-af73-d7af9b361985"
      },
      "outputs": [],
      "source": [
        "class Decoder(nn.Module):\n",
        "    def __init__(self, chs=(64, 32)):\n",
        "        super().__init__()\n",
        "        self.chs         = chs\n",
        "        self.upconvs    = nn.ModuleList([nn.ConvTranspose2d(chs[i], chs[i+1], 2, 2) for i in range(len(chs)-1)])\n",
        "        self.dec_blocks = nn.ModuleList([Block(chs[i], chs[i+1]) for i in range(len(chs)-1)]) \n",
        "        \n",
        "    def forward(self, x, encoder_features):\n",
        "        for i in range(len(self.chs)-1):\n",
        "            x        = self.upconvs[i](x)\n",
        "            enc_ftrs = self.crop(encoder_features[i], x)\n",
        "            x        = torch.cat([x, enc_ftrs], dim=1)\n",
        "            x        = self.dec_blocks[i](x)\n",
        "        return x\n",
        "    \n",
        "    def crop(self, enc_ftrs, x):\n",
        "        _, _, H, W = x.shape\n",
        "        enc_ftrs   = torchvision.transforms.CenterCrop([H, W])(enc_ftrs)\n",
        "        return enc_ftrs"
      ]
    },
    {
      "cell_type": "code",
      "execution_count": 18,
      "id": "2f677e58-e88b-44cc-965b-b0fa9b0a28e1",
      "metadata": {
        "id": "2f677e58-e88b-44cc-965b-b0fa9b0a28e1"
      },
      "outputs": [],
      "source": [
        "class UNet(nn.Module):\n",
        "    def __init__(self, out_sz=mnist_size, enc_chs=(1, 32, 64), dec_chs=(64, 32), num_class=1, \n",
        "                 retain_dim=False):\n",
        "        super().__init__()\n",
        "        self.encoder     = Encoder(enc_chs)\n",
        "        self.decoder     = Decoder(dec_chs)\n",
        "        self.head        = nn.Conv2d(dec_chs[-1], num_class, 1)\n",
        "        self.retain_dim  = retain_dim\n",
        "\n",
        "    def forward(self, x):\n",
        "        enc_ftrs = self.encoder(x)\n",
        "        out      = self.decoder(enc_ftrs[::-1][0], enc_ftrs[::-1][1:])\n",
        "        out      = self.head(out)\n",
        "        if self.retain_dim:\n",
        "            out = F.interpolate(out, out_sz)\n",
        "        return out"
      ]
    },
    {
      "cell_type": "markdown",
      "id": "3fb3f3cf-9521-4c07-b9d1-ec9a684d91d7",
      "metadata": {
        "id": "3fb3f3cf-9521-4c07-b9d1-ec9a684d91d7"
      },
      "source": [
        "Training Process\n",
        "================"
      ]
    },
    {
      "cell_type": "code",
      "execution_count": 19,
      "id": "052cd9fd-6363-4729-bbdf-a575806c72ba",
      "metadata": {
        "colab": {
          "base_uri": "https://localhost:8080/"
        },
        "id": "052cd9fd-6363-4729-bbdf-a575806c72ba",
        "outputId": "0e68aa53-6e7f-47d6-f29d-87f568df2529"
      },
      "outputs": [
        {
          "output_type": "stream",
          "name": "stdout",
          "text": [
            "UNet(\n",
            "  (encoder): Encoder(\n",
            "    (enc_blocks): ModuleList(\n",
            "      (0): Block(\n",
            "        (conv1): Conv2d(1, 32, kernel_size=(3, 3), stride=(1, 1), padding=(1, 1))\n",
            "        (conv2): Conv2d(32, 32, kernel_size=(3, 3), stride=(1, 1), padding=(1, 1))\n",
            "      )\n",
            "      (1): Block(\n",
            "        (conv1): Conv2d(32, 64, kernel_size=(3, 3), stride=(1, 1), padding=(1, 1))\n",
            "        (conv2): Conv2d(64, 64, kernel_size=(3, 3), stride=(1, 1), padding=(1, 1))\n",
            "      )\n",
            "    )\n",
            "    (pool): MaxPool2d(kernel_size=2, stride=2, padding=0, dilation=1, ceil_mode=False)\n",
            "  )\n",
            "  (decoder): Decoder(\n",
            "    (upconvs): ModuleList(\n",
            "      (0): ConvTranspose2d(64, 32, kernel_size=(2, 2), stride=(2, 2))\n",
            "    )\n",
            "    (dec_blocks): ModuleList(\n",
            "      (0): Block(\n",
            "        (conv1): Conv2d(64, 32, kernel_size=(3, 3), stride=(1, 1), padding=(1, 1))\n",
            "        (conv2): Conv2d(32, 32, kernel_size=(3, 3), stride=(1, 1), padding=(1, 1))\n",
            "      )\n",
            "    )\n",
            "  )\n",
            "  (head): Conv2d(32, 1, kernel_size=(1, 1), stride=(1, 1))\n",
            ")\n"
          ]
        }
      ],
      "source": [
        "unet = UNet().to(device)\n",
        "\n",
        "print(unet)"
      ]
    },
    {
      "cell_type": "code",
      "execution_count": 20,
      "id": "ff927a9b-a9a4-490e-8384-2e0fdd81d1c0",
      "metadata": {
        "id": "ff927a9b-a9a4-490e-8384-2e0fdd81d1c0"
      },
      "outputs": [],
      "source": [
        "lr = 0.001\n",
        "loss_func = MSELoss()\n",
        "opt = optim.Adam(unet.parameters(), lr)\n",
        "train_steps = len(train_loader)\n",
        "test_steps = len(test_loader)\n",
        "total_loss = {'train': [], 'test': []}\n",
        "epochs = 20\n",
        "threshold = 0.001"
      ]
    },
    {
      "cell_type": "code",
      "execution_count": 21,
      "id": "528868cb-19cf-4029-8029-a22d47acb60a",
      "metadata": {
        "colab": {
          "base_uri": "https://localhost:8080/"
        },
        "id": "528868cb-19cf-4029-8029-a22d47acb60a",
        "outputId": "198e5177-f0d4-4cc1-e9a9-59cc1311a1eb"
      },
      "outputs": [
        {
          "output_type": "stream",
          "name": "stdout",
          "text": [
            "[INFO] training the network...\n"
          ]
        },
        {
          "output_type": "stream",
          "name": "stderr",
          "text": [
            "100%|██████████| 938/938 [00:39<00:00, 23.59it/s]\n"
          ]
        },
        {
          "output_type": "stream",
          "name": "stdout",
          "text": [
            "[INFO] EPOCH: 1/20\n",
            "Train loss: 0.234621, Test loss: 0.2028\n"
          ]
        },
        {
          "output_type": "stream",
          "name": "stderr",
          "text": [
            "100%|██████████| 938/938 [00:38<00:00, 24.05it/s]\n"
          ]
        },
        {
          "output_type": "stream",
          "name": "stdout",
          "text": [
            "[INFO] EPOCH: 2/20\n",
            "Train loss: 0.189834, Test loss: 0.1788\n"
          ]
        },
        {
          "output_type": "stream",
          "name": "stderr",
          "text": [
            "100%|██████████| 938/938 [00:39<00:00, 23.99it/s]\n"
          ]
        },
        {
          "output_type": "stream",
          "name": "stdout",
          "text": [
            "[INFO] EPOCH: 3/20\n",
            "Train loss: 0.172334, Test loss: 0.1649\n"
          ]
        },
        {
          "output_type": "stream",
          "name": "stderr",
          "text": [
            "100%|██████████| 938/938 [00:39<00:00, 23.84it/s]\n"
          ]
        },
        {
          "output_type": "stream",
          "name": "stdout",
          "text": [
            "[INFO] EPOCH: 4/20\n",
            "Train loss: 0.162340, Test loss: 0.1540\n"
          ]
        },
        {
          "output_type": "stream",
          "name": "stderr",
          "text": [
            "100%|██████████| 938/938 [00:39<00:00, 23.92it/s]\n"
          ]
        },
        {
          "output_type": "stream",
          "name": "stdout",
          "text": [
            "[INFO] EPOCH: 5/20\n",
            "Train loss: 0.154324, Test loss: 0.1487\n"
          ]
        },
        {
          "output_type": "stream",
          "name": "stderr",
          "text": [
            "100%|██████████| 938/938 [00:39<00:00, 23.84it/s]\n"
          ]
        },
        {
          "output_type": "stream",
          "name": "stdout",
          "text": [
            "[INFO] EPOCH: 6/20\n",
            "Train loss: 0.149147, Test loss: 0.1444\n"
          ]
        },
        {
          "output_type": "stream",
          "name": "stderr",
          "text": [
            "100%|██████████| 938/938 [00:39<00:00, 23.89it/s]\n"
          ]
        },
        {
          "output_type": "stream",
          "name": "stdout",
          "text": [
            "[INFO] EPOCH: 7/20\n",
            "Train loss: 0.144478, Test loss: 0.1413\n"
          ]
        },
        {
          "output_type": "stream",
          "name": "stderr",
          "text": [
            "100%|██████████| 938/938 [00:39<00:00, 23.87it/s]\n"
          ]
        },
        {
          "output_type": "stream",
          "name": "stdout",
          "text": [
            "[INFO] EPOCH: 8/20\n",
            "Train loss: 0.140960, Test loss: 0.1384\n"
          ]
        },
        {
          "output_type": "stream",
          "name": "stderr",
          "text": [
            "100%|██████████| 938/938 [00:39<00:00, 23.81it/s]\n"
          ]
        },
        {
          "output_type": "stream",
          "name": "stdout",
          "text": [
            "[INFO] EPOCH: 9/20\n",
            "Train loss: 0.137820, Test loss: 0.1362\n"
          ]
        },
        {
          "output_type": "stream",
          "name": "stderr",
          "text": [
            "100%|██████████| 938/938 [00:39<00:00, 23.90it/s]\n"
          ]
        },
        {
          "output_type": "stream",
          "name": "stdout",
          "text": [
            "[INFO] EPOCH: 10/20\n",
            "Train loss: 0.134958, Test loss: 0.1331\n"
          ]
        },
        {
          "output_type": "stream",
          "name": "stderr",
          "text": [
            "100%|██████████| 938/938 [00:39<00:00, 23.83it/s]\n"
          ]
        },
        {
          "output_type": "stream",
          "name": "stdout",
          "text": [
            "[INFO] EPOCH: 11/20\n",
            "Train loss: 0.133769, Test loss: 0.1303\n"
          ]
        },
        {
          "output_type": "stream",
          "name": "stderr",
          "text": [
            "100%|██████████| 938/938 [00:39<00:00, 23.95it/s]\n"
          ]
        },
        {
          "output_type": "stream",
          "name": "stdout",
          "text": [
            "[INFO] EPOCH: 12/20\n",
            "Train loss: 0.131308, Test loss: 0.1264\n"
          ]
        },
        {
          "output_type": "stream",
          "name": "stderr",
          "text": [
            "100%|██████████| 938/938 [00:38<00:00, 24.07it/s]\n"
          ]
        },
        {
          "output_type": "stream",
          "name": "stdout",
          "text": [
            "[INFO] EPOCH: 13/20\n",
            "Train loss: 0.129655, Test loss: 0.1282\n"
          ]
        },
        {
          "output_type": "stream",
          "name": "stderr",
          "text": [
            "100%|██████████| 938/938 [00:39<00:00, 23.78it/s]\n"
          ]
        },
        {
          "output_type": "stream",
          "name": "stdout",
          "text": [
            "[INFO] EPOCH: 14/20\n",
            "Train loss: 0.128045, Test loss: 0.1267\n"
          ]
        },
        {
          "output_type": "stream",
          "name": "stderr",
          "text": [
            "100%|██████████| 938/938 [00:39<00:00, 23.77it/s]\n"
          ]
        },
        {
          "output_type": "stream",
          "name": "stdout",
          "text": [
            "[INFO] EPOCH: 15/20\n",
            "Train loss: 0.126970, Test loss: 0.1249\n"
          ]
        },
        {
          "output_type": "stream",
          "name": "stderr",
          "text": [
            "100%|██████████| 938/938 [00:39<00:00, 23.77it/s]\n"
          ]
        },
        {
          "output_type": "stream",
          "name": "stdout",
          "text": [
            "[INFO] EPOCH: 16/20\n",
            "Train loss: 0.125575, Test loss: 0.1222\n"
          ]
        },
        {
          "output_type": "stream",
          "name": "stderr",
          "text": [
            "100%|██████████| 938/938 [00:39<00:00, 23.97it/s]\n"
          ]
        },
        {
          "output_type": "stream",
          "name": "stdout",
          "text": [
            "[INFO] EPOCH: 17/20\n",
            "Train loss: 0.124515, Test loss: 0.1228\n"
          ]
        },
        {
          "output_type": "stream",
          "name": "stderr",
          "text": [
            "100%|██████████| 938/938 [00:39<00:00, 23.84it/s]\n"
          ]
        },
        {
          "output_type": "stream",
          "name": "stdout",
          "text": [
            "[INFO] EPOCH: 18/20\n",
            "Train loss: 0.123079, Test loss: 0.1215\n"
          ]
        },
        {
          "output_type": "stream",
          "name": "stderr",
          "text": [
            "100%|██████████| 938/938 [00:39<00:00, 23.89it/s]\n"
          ]
        },
        {
          "output_type": "stream",
          "name": "stdout",
          "text": [
            "[INFO] EPOCH: 19/20\n",
            "Train loss: 0.122372, Test loss: 0.1218\n",
            "[INFO] total time taken to train the model: 846.91s\n"
          ]
        }
      ],
      "source": [
        "print(\"[INFO] training the network...\")\n",
        "start_time = time.time()\n",
        "for epoch in range(epochs):\n",
        "    unet.train()\n",
        "    \n",
        "    train_loss = 0\n",
        "    test_loss = 0\n",
        "    for i, data in tqdm(enumerate(train_loader), total=train_steps):\n",
        "        inps, tars = data\n",
        "        inps, tars = inps.to(device), tars.to(device)\n",
        "        pred = unet(inps)\n",
        "        loss = loss_func(pred, tars)\n",
        "        \n",
        "        opt.zero_grad()\n",
        "        loss.backward()\n",
        "        opt.step()\n",
        "        \n",
        "        train_loss += loss\n",
        "    \n",
        "    with torch.no_grad():\n",
        "        unet.eval()\n",
        "        for inp, tar in test_loader:\n",
        "            inp, tar = inp.to(device), tar.to(device)\n",
        "            pred = unet(inp)\n",
        "            test_loss += loss_func(pred, tar)\n",
        "    \n",
        "    avg_train_loss = train_loss / train_steps\n",
        "    avg_test_loss = test_loss / test_steps\n",
        "    \n",
        "    total_loss['train'].append(avg_train_loss.cpu().detach().numpy())\n",
        "    total_loss['test'].append(avg_test_loss.cpu().detach().numpy())\n",
        "    print(\"[INFO] EPOCH: {}/{}\".format(epoch + 1, epochs))\n",
        "    print(\"Train loss: {:.6f}, Test loss: {:.4f}\".format(avg_train_loss, avg_test_loss))\n",
        "    if epoch != 0 and total_loss['train'][- 2] - total_loss['train'][- 1] < threshold:\n",
        "      break\n",
        "\n",
        "end_time = time.time()\n",
        "print(\"[INFO] total time taken to train the model: {:.2f}s\".format(end_time - start_time))"
      ]
    },
    {
      "cell_type": "markdown",
      "id": "f58c5d1f-6058-4752-bcf2-de7ccf00f9fe",
      "metadata": {
        "id": "f58c5d1f-6058-4752-bcf2-de7ccf00f9fe"
      },
      "source": [
        "Illustrating the plot and saving the model\n",
        "=========================================="
      ]
    },
    {
      "cell_type": "code",
      "execution_count": 22,
      "id": "c449eb1a-94ec-4af9-991b-fe96753eb5ba",
      "metadata": {
        "colab": {
          "base_uri": "https://localhost:8080/",
          "height": 299
        },
        "id": "c449eb1a-94ec-4af9-991b-fe96753eb5ba",
        "outputId": "da438eea-86d6-4f17-ada2-fb7a08a03920"
      },
      "outputs": [
        {
          "output_type": "display_data",
          "data": {
            "image/png": "[encoded data removed]",
            "text/plain": [
              "<Figure size 432x288 with 1 Axes>"
            ]
          },
          "metadata": {}
        }
      ],
      "source": [
        "model_path = './model.pth'\n",
        "plot_path = './plot.png'\n",
        "tests_path = './test_paths.txt'\n",
        "plt.style.use(\"ggplot\")\n",
        "plt.figure()\n",
        "plt.plot(total_loss[\"train\"], label=\"train\")\n",
        "plt.plot(total_loss[\"test\"], label=\"test\")\n",
        "plt.title(\"Training Loss on Dataset\")\n",
        "plt.xlabel(\"Epoch #\")\n",
        "plt.ylabel(\"Loss\")\n",
        "plt.legend(loc=\"lower left\")\n",
        "plt.savefig(plot_path)\n",
        "# serialize the model to disk\n",
        "torch.save(unet, model_path)"
      ]
    }
  ],
  "metadata": {
    "kernelspec": {
      "display_name": "Python 3 (ipykernel)",
      "language": "python",
      "name": "python3"
    },
    "language_info": {
      "codemirror_mode": {
        "name": "ipython",
        "version": 3
      },
      "file_extension": ".py",
      "mimetype": "text/x-python",
      "name": "python",
      "nbconvert_exporter": "python",
      "pygments_lexer": "ipython3",
      "version": "3.9.7"
    },
    "colab": {
      "name": "UNet.ipynb",
      "provenance": [],
      "collapsed_sections": [],
      "include_colab_link": true
    },
    "accelerator": "GPU"
  },
  "nbformat": 4,
  "nbformat_minor": 5
}