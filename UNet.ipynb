{
  "cells": [
    {
      "cell_type": "markdown",
      "metadata": {
        "id": "view-in-github",
        "colab_type": "text"
      },
      "source": [
        "<a href=\"https://colab.research.google.com/github/yasharzb/MNIST-Rotate-UNet/blob/main/UNet.ipynb\" target=\"_parent\"><img src=\"https://colab.research.google.com/assets/colab-badge.svg\" alt=\"Open In Colab\"/></a>"
      ]
    },
    {
      "cell_type": "markdown",
      "id": "8cfa3da4-eac9-4790-95b2-21f55bc165b8",
      "metadata": {
        "id": "8cfa3da4-eac9-4790-95b2-21f55bc165b8"
      },
      "source": [
        "<div dir=\"rtl\" text-align=\"justify\">\n",
        "\n",
        "\n",
        "مقدمات\n",
        "===================\n",
        "\n",
        "</div>"
      ]
    },
    {
      "cell_type": "markdown",
      "source": [
        "<div dir='rtl' text-algin='justify'>\n",
        "\n",
        "ابتدا کتابخانه‌های مورد نیاز را وارد می‌کنیم. خانواده‌ی `torch` و `numpy` و `matplotlib` که مشخص هستند. از `random` برای ایجاد زاویه‌ی تصادفی، از `time` برای اندازه‌گیری زمان آموزش و از `tqdm`برای نشان دادن پروسه‌ی یادگیری استفاده شده است.\n",
        "\n",
        "</div>"
      ],
      "metadata": {
        "id": "t_AE1lF0KG_e"
      },
      "id": "t_AE1lF0KG_e"
    },
    {
      "cell_type": "code",
      "execution_count": 1,
      "id": "243889da-46a8-4bda-9913-b3199ba2d9ff",
      "metadata": {
        "id": "243889da-46a8-4bda-9913-b3199ba2d9ff"
      },
      "outputs": [],
      "source": [
        "import torch\n",
        "import torch.nn as nn\n",
        "import torchvision.transforms as transforms\n",
        "import torch.optim as optim\n",
        "import torch.nn.functional as func\n",
        "import torchvision.datasets as datasets\n",
        "import torchvision as torchvision\n",
        "from torchvision.utils import make_grid, save_image\n",
        "from torch.utils.data import DataLoader, Dataset\n",
        "from torch.autograd import Variable\n",
        "import numpy as np\n",
        "import matplotlib\n",
        "import random\n",
        "from matplotlib import pyplot as plt\n",
        "from torch.nn import MSELoss, CrossEntropyLoss, BCEWithLogitsLoss\n",
        "import torch.optim as optim\n",
        "from tqdm import tqdm\n",
        "import time"
      ]
    },
    {
      "cell_type": "markdown",
      "source": [
        "<div dir='rtl' text-algin='justify'>\n",
        "\n",
        "با توجه به سنگینی کار، در این قسمت ترجیح داده شده است که از `gpu` برای تسریع استفاده شود.\n",
        "\n",
        "</div>"
      ],
      "metadata": {
        "id": "6aojic5pKEiy"
      },
      "id": "6aojic5pKEiy"
    },
    {
      "cell_type": "code",
      "source": [
        "device = \"cuda\" if torch.cuda.is_available() else \"cpu\"\n",
        "print(device)"
      ],
      "metadata": {
        "id": "l1frbAUj23yx",
        "colab": {
          "base_uri": "https://localhost:8080/"
        },
        "outputId": "4ef26ab6-6914-4b0d-f65c-bfcee1e42c04"
      },
      "id": "l1frbAUj23yx",
      "execution_count": 2,
      "outputs": [
        {
          "output_type": "stream",
          "name": "stdout",
          "text": [
            "cuda\n"
          ]
        }
      ]
    },
    {
      "cell_type": "markdown",
      "source": [
        "<div dir='rtl' text-algin='justify'>\n",
        "\n",
        "در این قسمت دو پارامتر ست شده‌اند. یکی `batch size` که در این مسئله سه مقدار ۱۲۸، ۶۴ و ۳۲ بررسی شدند که ۶۴ از همه بهتر (هم از نظر دقت هم از نظر زمان همگرایی) عمل کرد. و دیگری هم که اندازه‌ی ابعاد تصاویر `mnist_size` است که به صورت مربع های ۲۸ در ۲۸ هستند.\n",
        "\n",
        "</div>"
      ],
      "metadata": {
        "id": "RUMqwdjcKqOo"
      },
      "id": "RUMqwdjcKqOo"
    },
    {
      "cell_type": "code",
      "execution_count": 3,
      "id": "2e717dac-7354-44fb-a7c0-b7529227122f",
      "metadata": {
        "id": "2e717dac-7354-44fb-a7c0-b7529227122f"
      },
      "outputs": [],
      "source": [
        "base_dir = './'\n",
        "batch_size = 32\n",
        "mnist_size = 28\n",
        "base_transform = transform = transforms.Compose([transforms.ToTensor(), transforms.Normalize((0.5,),(0.5,)),])"
      ]
    },
    {
      "cell_type": "markdown",
      "id": "3f9b6f86-f314-4981-ae2d-c580e54ff7d7",
      "metadata": {
        "id": "3f9b6f86-f314-4981-ae2d-c580e54ff7d7"
      },
      "source": [
        "<div dir=\"rtl\" text-align=\"justify\">\n",
        "\n",
        "ساخت مدل‌ها\n",
        "===============\n",
        "\n",
        "</div>"
      ]
    },
    {
      "cell_type": "markdown",
      "id": "543a7f03-f767-4ce8-ac65-a1312f729098",
      "metadata": {
        "id": "543a7f03-f767-4ce8-ac65-a1312f729098"
      },
      "source": [
        "<div dir='rtl' text-algin='justify'>\n",
        "\n",
        "برای شروع، یک دیتاست تغییر یافته از `MNIST` را ایجاد می‌کنیم. قرار است از این جهت آموزش و آزمایش استفاده شود. هر تصویر `MNIST` گرفته می‌شود و اصل آن به عنوان `target` تعیین می‌شود. سپس با زاویه‌ای تصادفی می‌چرخد و این تصویر جدید به عنوان ورودی تعبیر می‌شود.\n",
        "\n",
        "</div>"
      ]
    },
    {
      "cell_type": "code",
      "execution_count": 4,
      "id": "02b68e82-1399-4875-8adb-8cb31dd66280",
      "metadata": {
        "id": "02b68e82-1399-4875-8adb-8cb31dd66280"
      },
      "outputs": [],
      "source": [
        "class SegmentationMNIST(datasets.MNIST):\n",
        "    def __getitem__(self, index: int):\n",
        "        inp, tar = super(SegmentationMNIST, self).__getitem__(index)\n",
        "        angle = random.uniform(-90, 90)\n",
        "        tar = inp\n",
        "        inp = transforms.functional.rotate(inp, angle)\n",
        "        return inp, tar"
      ]
    },
    {
      "cell_type": "code",
      "execution_count": 5,
      "id": "2ca51cf0-4345-4411-85ff-7c85938392d6",
      "metadata": {
        "id": "2ca51cf0-4345-4411-85ff-7c85938392d6",
        "colab": {
          "base_uri": "https://localhost:8080/",
          "height": 423,
          "referenced_widgets": [
            "2dc3b57e3f8448a3a9a15983c8248a88",
            "bff7963189ef4d7683e850db0e237c61",
            "aee65a23db8f4da991a43143afa8be97",
            "922967ef228e40f4912f0dc58166f742",
            "e6de7263f56c40518703457b62f84b30",
            "c65b4bfeda4e4b50ae81344b65483c61",
            "a5e66abc155546959183c22255c8ade2",
            "45bba27b76b344598ef992cd8688bfbc",
            "7a30106922584bd1a966c27d1338864a",
            "a4ed1d7103e14f9a926275b93aca7ed1",
            "ca05f746b35a451e8fab83123605f285",
            "10047e4a86414968a33365f4814286fe",
            "eca3367b83494cd29de2c58b29a615cc",
            "f1a5b5047b784759a9934d31fab9d872",
            "b928dc28459e469cad8074e5e343a764",
            "0412cae07b534fcdb08ada60c93242e7",
            "c8ff2a3e8a9f427cb3c71d2044ad412c",
            "94bd8d1f45d1474e93ff2613646d35ae",
            "d3558518ce344af3b02152f4abb854a8",
            "52cd5fe4bcae46fb9b57d76e22b17e65",
            "0d17d92d92264c9d9eabd0a6933097f2",
            "f3793e72d5c7424ab747f3b01f825fef",
            "c2bca70fb5b741b396dd5b33e3705ec8",
            "4c688c7e7d4e4778a55ff7fdd536a281",
            "589d96d214824e1d99c03d7cc7a043a8",
            "5186532cf1d84c539bd0638162b68f6c",
            "a0c1eaaba52b49e99ada9f015d91ce24",
            "aaecdacb2b8943bda93046b0ec312835",
            "878a91257a5e4392ae76af43f714591a",
            "2a351491779840a5ae5d9b736c76546b",
            "d70af00977264133a4a6d8f89254c5f6",
            "fb4ca6c22ef94f3086e10c7e9cdf7561",
            "4938b4b539ac43f1b920fb318bd5f0be",
            "d5d06d83a3894bdeba886cf771dfe5d2",
            "02c798e0ba244263844510961296ba2c",
            "3c3901768ea543c0837d4f4e364c9520",
            "62b029ae324e4badafb0256769843ac6",
            "08bd60d653564c41aa2f301e5d5907e1",
            "3aec8df717eb4a24bfcdb6b704bb368f",
            "c1cd33e3d81646e390ef8d7ad75dbac0",
            "d70566e9febe4dcaab4be2f682335a2a",
            "d1eb499ff1f84b5e95a2c36646f9b38c",
            "c3e3b4c851134e62b16731ba5fda6ab0",
            "fe3a6bb18fa2428f94076cdde5f51e6c"
          ]
        },
        "outputId": "8e6265a0-57d8-4257-b27b-f34d49440a4b"
      },
      "outputs": [
        {
          "output_type": "stream",
          "name": "stdout",
          "text": [
            "Downloading http://yann.lecun.com/exdb/mnist/train-images-idx3-ubyte.gz\n",
            "Downloading http://yann.lecun.com/exdb/mnist/train-images-idx3-ubyte.gz to ./data/SegmentationMNIST/raw/train-images-idx3-ubyte.gz\n"
          ]
        },
        {
          "output_type": "display_data",
          "data": {
            "application/vnd.jupyter.widget-view+json": {
              "model_id": "2dc3b57e3f8448a3a9a15983c8248a88",
              "version_minor": 0,
              "version_major": 2
            },
            "text/plain": [
              "  0%|          | 0/9912422 [00:00<?, ?it/s]"
            ]
          },
          "metadata": {}
        },
        {
          "output_type": "stream",
          "name": "stdout",
          "text": [
            "Extracting ./data/SegmentationMNIST/raw/train-images-idx3-ubyte.gz to ./data/SegmentationMNIST/raw\n",
            "\n",
            "Downloading http://yann.lecun.com/exdb/mnist/train-labels-idx1-ubyte.gz\n",
            "Downloading http://yann.lecun.com/exdb/mnist/train-labels-idx1-ubyte.gz to ./data/SegmentationMNIST/raw/train-labels-idx1-ubyte.gz\n"
          ]
        },
        {
          "output_type": "display_data",
          "data": {
            "application/vnd.jupyter.widget-view+json": {
              "model_id": "10047e4a86414968a33365f4814286fe",
              "version_minor": 0,
              "version_major": 2
            },
            "text/plain": [
              "  0%|          | 0/28881 [00:00<?, ?it/s]"
            ]
          },
          "metadata": {}
        },
        {
          "output_type": "stream",
          "name": "stdout",
          "text": [
            "Extracting ./data/SegmentationMNIST/raw/train-labels-idx1-ubyte.gz to ./data/SegmentationMNIST/raw\n",
            "\n",
            "Downloading http://yann.lecun.com/exdb/mnist/t10k-images-idx3-ubyte.gz\n",
            "Downloading http://yann.lecun.com/exdb/mnist/t10k-images-idx3-ubyte.gz to ./data/SegmentationMNIST/raw/t10k-images-idx3-ubyte.gz\n"
          ]
        },
        {
          "output_type": "display_data",
          "data": {
            "application/vnd.jupyter.widget-view+json": {
              "model_id": "c2bca70fb5b741b396dd5b33e3705ec8",
              "version_minor": 0,
              "version_major": 2
            },
            "text/plain": [
              "  0%|          | 0/1648877 [00:00<?, ?it/s]"
            ]
          },
          "metadata": {}
        },
        {
          "output_type": "stream",
          "name": "stdout",
          "text": [
            "Extracting ./data/SegmentationMNIST/raw/t10k-images-idx3-ubyte.gz to ./data/SegmentationMNIST/raw\n",
            "\n",
            "Downloading http://yann.lecun.com/exdb/mnist/t10k-labels-idx1-ubyte.gz\n",
            "Downloading http://yann.lecun.com/exdb/mnist/t10k-labels-idx1-ubyte.gz to ./data/SegmentationMNIST/raw/t10k-labels-idx1-ubyte.gz\n"
          ]
        },
        {
          "output_type": "display_data",
          "data": {
            "application/vnd.jupyter.widget-view+json": {
              "model_id": "d5d06d83a3894bdeba886cf771dfe5d2",
              "version_minor": 0,
              "version_major": 2
            },
            "text/plain": [
              "  0%|          | 0/4542 [00:00<?, ?it/s]"
            ]
          },
          "metadata": {}
        },
        {
          "output_type": "stream",
          "name": "stdout",
          "text": [
            "Extracting ./data/SegmentationMNIST/raw/t10k-labels-idx1-ubyte.gz to ./data/SegmentationMNIST/raw\n",
            "\n"
          ]
        }
      ],
      "source": [
        "train_loader = DataLoader(SegmentationMNIST('./data', train=True, download=True, transform=base_transform), batch_size=batch_size, shuffle=True)\n",
        "test_loader = DataLoader(SegmentationMNIST('./data', train=False, download=True, transform=base_transform), batch_size=batch_size, shuffle=True)"
      ]
    },
    {
      "cell_type": "markdown",
      "id": "b9e0b5ce-58c2-4673-8efa-ffa0911cdb1b",
      "metadata": {
        "id": "b9e0b5ce-58c2-4673-8efa-ffa0911cdb1b"
      },
      "source": [
        "<div dir='rtl' text-algin='justify'>\n",
        "\n",
        "پیش از شروع می‌بایست حدود مدل خود را پیدا کنیم. همانطور که می‌دانیم می‌توان از هر دو مدل `Discriminitive`و `Generative` استفاده کرد. اما چون قرار نیست مسئله‌ی رگرسیون (نوع اول) حل شود، پس از نوع دوم استفاده می‌کنیم. برای نوع دوم می‌توان از مدل‌های گوناگونی مانند `GAN` و یا `Autoencoder`ها استفاده کرد.\n",
        "\n",
        "با توجه به مطالبی که در راستای آموزش `pytorch` گفته شد، من سراغ `U-Net` رفتم که یک نوع ‍`Autoencoder` به حساب می‌آید. به صورت کلی شیوه‌ی کار آن به این صورت است که یک تصویر می‌گیرد، با لایه‌های کانولوشنی متعدد آن را به یک `vector` تبدیل می‌کند. در این مقطع ویژگی‌های اصلی با کمک کانولوشن و pooling به دست می‌آیند. سپس تلاش می‌کند با ویژگی‌های یادگرفته شده تصویر را مجددا بازسازی کند.\n",
        "\n",
        "ساختار `U-Net` به صورت زیر است.\n",
        "\n",
        "</div>"
      ]
    },
    {
      "cell_type": "markdown",
      "source": [
        "<div dir='rtl' text-algin='justify'>\n",
        "\n",
        "برای سادگی می‌توان آن را به صورت زیر نشان داد.\n",
        "\n",
        "همانگونه که می‌بینید ما یک سری زیرشبکه‌ی تکرار شونده داریم (دو کانولوشن) بین این زیرشبکه‌ها، یک `Max pooling`یا `up convolution` داریم.\n",
        "\n",
        "</div>"
      ],
      "metadata": {
        "id": "dEp1rO5PNvaf"
      },
      "id": "dEp1rO5PNvaf"
    },
    {
      "cell_type": "markdown",
      "source": [
        "<div dir='rtl' text-algin='justify'>\n",
        "\n",
        "زیرشبکه‌های تکرار شونده را `Block` می‌نامیم. که حاوی دو لایه‌ی کانولوشن با پهنای ۳ است. ضخامت آن در هر مرحله تفاوت دارد.\n",
        "\n",
        "</div>"
      ],
      "metadata": {
        "id": "WkkQIp5uONQK"
      },
      "id": "WkkQIp5uONQK"
    },
    {
      "cell_type": "code",
      "execution_count": 6,
      "id": "96786d81-960a-49b7-8beb-0ba37bb3be2d",
      "metadata": {
        "id": "96786d81-960a-49b7-8beb-0ba37bb3be2d"
      },
      "outputs": [],
      "source": [
        "class Block(nn.Module):\n",
        "    def __init__(self, in_ch, out_ch):\n",
        "        super(Block, self).__init__()\n",
        "        self.conv1 = nn.Conv2d(in_ch, out_ch, 3, padding=1)\n",
        "        self.conv2 = nn.Conv2d(out_ch, out_ch, 3, padding=1)\n",
        "    \n",
        "    def forward(self, x):\n",
        "        x = self.conv1(x)\n",
        "        x = func.relu(x)\n",
        "        x = self.conv2(x)\n",
        "        x = func.relu(x)\n",
        "        return x"
      ]
    },
    {
      "cell_type": "markdown",
      "source": [
        "<div dir='rtl' text-algin='justify'>\n",
        "\n",
        "اکنون `Encoder` را تعریف می‌کنیم. یک توالی از `Block`ها که بین آن‌ها یک `Max pooling` قرار می‌دهد (البته بجز مرحله‌ی آخر)."
      ],
      "metadata": {
        "id": "n4ZHFLjUOa_s"
      },
      "id": "n4ZHFLjUOa_s"
    },
    {
      "cell_type": "code",
      "execution_count": 7,
      "id": "8dcd9c53-535b-43b7-8b42-820d46b1f0de",
      "metadata": {
        "id": "8dcd9c53-535b-43b7-8b42-820d46b1f0de"
      },
      "outputs": [],
      "source": [
        "class Encoder(nn.Module):\n",
        "    def __init__(self, chs=(3, 64, 128, 256)):\n",
        "        super().__init__()\n",
        "        self.enc_blocks = nn.ModuleList([Block(chs[i], chs[i + 1]) for i in range(len(chs) - 1)])\n",
        "        self.pool       = nn.MaxPool2d(2)\n",
        "    \n",
        "    def forward(self, x):\n",
        "        ftrs = []\n",
        "        for i in range(len(self.enc_blocks) - 1):\n",
        "            block = self.enc_blocks[i]\n",
        "            x = block(x)\n",
        "            ftrs.append(x)\n",
        "            x = self.pool(x)\n",
        "        x = self.enc_blocks[-1](x)\n",
        "        return x, ftrs"
      ]
    },
    {
      "cell_type": "markdown",
      "source": [
        "<div dir='rtl' text-algin='justify'>\n",
        "\n",
        "\n",
        "بخش `Decoder` جدا از اینکه با کمک `up convolution` تصاویر را بزرگ ولی تعدد را کم می‌کند برای جبران مافات (حاصل از بزرگ‌سازی تصویر) از وسط تصویر پیشین در مرحله‌ی متناظر فعلی در `encoder` برش می‌دهد. این احتمالا به این منظور است که اثرات حواشی لبه‌ی تصویر در بازسازی دخیل نشود."
      ],
      "metadata": {
        "id": "JBwypUcxOn0O"
      },
      "id": "JBwypUcxOn0O"
    },
    {
      "cell_type": "code",
      "execution_count": 8,
      "id": "22ef585f-b64f-4bd7-af73-d7af9b361985",
      "metadata": {
        "id": "22ef585f-b64f-4bd7-af73-d7af9b361985"
      },
      "outputs": [],
      "source": [
        "class Decoder(nn.Module):\n",
        "    def __init__(self, chs = (256, 128, 64)):\n",
        "        super().__init__()\n",
        "        self.chs        = chs\n",
        "        self.upconvs    = nn.ModuleList([nn.ConvTranspose2d(chs[i], chs[i+1], 2, 2) for i in range(len(chs)-1)])\n",
        "        self.dec_blocks = nn.ModuleList([Block(chs[i], chs[i+1]) for i in range(len(chs)-1)]) \n",
        "        \n",
        "    def forward(self, x, encoder_features):\n",
        "        for i in range(len(self.chs) - 1):\n",
        "            x        = self.upconvs[i](x)\n",
        "            enc_ftrs = self.crop(encoder_features[i], x)\n",
        "            x        = torch.cat([x, enc_ftrs], dim=1)\n",
        "            x        = self.dec_blocks[i](x)\n",
        "        return x\n",
        "    \n",
        "    def crop(self, enc_ftrs, x):\n",
        "        _, _, H, W = x.shape\n",
        "        enc_ftrs   = torchvision.transforms.CenterCrop([H, W])(enc_ftrs)\n",
        "        return enc_ftrs"
      ]
    },
    {
      "cell_type": "markdown",
      "source": [
        "<div dir='rtl' text-algin='justify'>\n",
        "\n",
        "در نهایت از اجتماع شبکه‌ی بالا `UNet` نهایی را می‌سازیم.\n",
        "\n",
        "</div>"
      ],
      "metadata": {
        "id": "gQCjV9d3PTKS"
      },
      "id": "gQCjV9d3PTKS"
    },
    {
      "cell_type": "code",
      "execution_count": 9,
      "id": "2f677e58-e88b-44cc-965b-b0fa9b0a28e1",
      "metadata": {
        "id": "2f677e58-e88b-44cc-965b-b0fa9b0a28e1"
      },
      "outputs": [],
      "source": [
        "class UNet(nn.Module):\n",
        "    def __init__(self, out_sz=mnist_size, enc_chs=(3, 64, 128, 256), dec_chs=(256, 128, 64), num_class=1, \n",
        "                 retain_dim=False):\n",
        "        super().__init__()\n",
        "        self.conv_i      = nn.Conv2d(num_class, 3, 3, padding=1)\n",
        "        self.encoder     = Encoder(enc_chs)\n",
        "        self.decoder     = Decoder(dec_chs)\n",
        "        self.head        = nn.Conv2d(dec_chs[-1], enc_chs[0], 3, padding=1)\n",
        "        self.conv_f      = nn.Conv2d(enc_chs[0], num_class, 3, padding=1)\n",
        "        \n",
        "\n",
        "    def forward(self, x):\n",
        "        x        = self.conv_i(x)\n",
        "        x, enc_ftrs = self.encoder(x)\n",
        "        out      = self.decoder(x, enc_ftrs[::-1])\n",
        "        out      = self.head(out)\n",
        "        out      = self.conv_f(out)\n",
        "        return out"
      ]
    },
    {
      "cell_type": "markdown",
      "id": "3fb3f3cf-9521-4c07-b9d1-ec9a684d91d7",
      "metadata": {
        "id": "3fb3f3cf-9521-4c07-b9d1-ec9a684d91d7"
      },
      "source": [
        "<div dir=\"rtl\" text-align=\"justify\">\n",
        "\n",
        "فاز آموزش\n",
        "================\n",
        "\n",
        "</div>"
      ]
    },
    {
      "cell_type": "markdown",
      "source": [
        "<div dir='rtl' text-algin='justify'>\n",
        "\n",
        "ابتدا شبکه را ایجاد می‌کنیم و مشخصات آن را چاپ می‌کنیم.\n",
        "\n",
        "</div>"
      ],
      "metadata": {
        "id": "1m-w2RQSPdbh"
      },
      "id": "1m-w2RQSPdbh"
    },
    {
      "cell_type": "code",
      "execution_count": 10,
      "id": "052cd9fd-6363-4729-bbdf-a575806c72ba",
      "metadata": {
        "colab": {
          "base_uri": "https://localhost:8080/"
        },
        "id": "052cd9fd-6363-4729-bbdf-a575806c72ba",
        "outputId": "0f16dd5e-3576-4a77-ce27-cdfca5621353"
      },
      "outputs": [
        {
          "output_type": "stream",
          "name": "stdout",
          "text": [
            "UNet(\n",
            "  (conv_i): Conv2d(1, 3, kernel_size=(3, 3), stride=(1, 1), padding=(1, 1))\n",
            "  (encoder): Encoder(\n",
            "    (enc_blocks): ModuleList(\n",
            "      (0): Block(\n",
            "        (conv1): Conv2d(3, 64, kernel_size=(3, 3), stride=(1, 1), padding=(1, 1))\n",
            "        (conv2): Conv2d(64, 64, kernel_size=(3, 3), stride=(1, 1), padding=(1, 1))\n",
            "      )\n",
            "      (1): Block(\n",
            "        (conv1): Conv2d(64, 128, kernel_size=(3, 3), stride=(1, 1), padding=(1, 1))\n",
            "        (conv2): Conv2d(128, 128, kernel_size=(3, 3), stride=(1, 1), padding=(1, 1))\n",
            "      )\n",
            "      (2): Block(\n",
            "        (conv1): Conv2d(128, 256, kernel_size=(3, 3), stride=(1, 1), padding=(1, 1))\n",
            "        (conv2): Conv2d(256, 256, kernel_size=(3, 3), stride=(1, 1), padding=(1, 1))\n",
            "      )\n",
            "    )\n",
            "    (pool): MaxPool2d(kernel_size=2, stride=2, padding=0, dilation=1, ceil_mode=False)\n",
            "  )\n",
            "  (decoder): Decoder(\n",
            "    (upconvs): ModuleList(\n",
            "      (0): ConvTranspose2d(256, 128, kernel_size=(2, 2), stride=(2, 2))\n",
            "      (1): ConvTranspose2d(128, 64, kernel_size=(2, 2), stride=(2, 2))\n",
            "    )\n",
            "    (dec_blocks): ModuleList(\n",
            "      (0): Block(\n",
            "        (conv1): Conv2d(256, 128, kernel_size=(3, 3), stride=(1, 1), padding=(1, 1))\n",
            "        (conv2): Conv2d(128, 128, kernel_size=(3, 3), stride=(1, 1), padding=(1, 1))\n",
            "      )\n",
            "      (1): Block(\n",
            "        (conv1): Conv2d(128, 64, kernel_size=(3, 3), stride=(1, 1), padding=(1, 1))\n",
            "        (conv2): Conv2d(64, 64, kernel_size=(3, 3), stride=(1, 1), padding=(1, 1))\n",
            "      )\n",
            "    )\n",
            "  )\n",
            "  (head): Conv2d(64, 3, kernel_size=(3, 3), stride=(1, 1), padding=(1, 1))\n",
            "  (conv_f): Conv2d(3, 1, kernel_size=(3, 3), stride=(1, 1), padding=(1, 1))\n",
            ")\n"
          ]
        }
      ],
      "source": [
        "unet = UNet().to(device)\n",
        "\n",
        "print(unet)"
      ]
    },
    {
      "cell_type": "markdown",
      "source": [
        "<div dir='rtl' text-algin='justify'>\n",
        "\n",
        "در این مرحله نرخ یادگیری را پایین می‌گذاریم تا در فرآیند گرادیان کاهشی از نقطه‌ی بهینه‌ی محلی عبور نکنیم. یک آستانه‌ی ۰/۰۰۱ تعریف می‌کنیم که نشان دهنده‌ی این است که اگ تغییرات تابع خطا از چه حدی کمتر بود فرآیند یادگیری را متوقف کند. در عین حال برای ۲۰ مرتبه فرآیند آموزش را تکرار می‌کنیم.\n",
        "\n",
        "از تابع `MSE` برای خطا استفاده شده است. با وجود اینکه راه حل مسئله رگرسیون نیست ولی در نهایت نگاه بدین گونه است. یعنی قرار است فاصله‌ی دو تا ماتریس ۶۴×۱×۲۸×۲۸ بررسی شود. در صورتی که مسئله‌ی دسته بندی داشتیم احتمالا معقول‌تر بود که از `Cross Entropy` استفاده می‌کردیم.\n",
        "\n",
        "در ابتدا جهت تسریع در همگرا شدن از `Adam` استفاده شده است. با توجه به اینکه دقت به نظر مناسب می‌آید و `SGD` روش کندتری است، تغییری در این جا اعمال نشده است."
      ],
      "metadata": {
        "id": "IFYH-Z4NfCoA"
      },
      "id": "IFYH-Z4NfCoA"
    },
    {
      "cell_type": "code",
      "execution_count": 11,
      "id": "ff927a9b-a9a4-490e-8384-2e0fdd81d1c0",
      "metadata": {
        "id": "ff927a9b-a9a4-490e-8384-2e0fdd81d1c0"
      },
      "outputs": [],
      "source": [
        "lr = 0.001\n",
        "loss_func = MSELoss()\n",
        "opt = optim.Adam(unet.parameters(), lr)\n",
        "train_steps = len(train_loader)\n",
        "test_steps = len(test_loader)\n",
        "total_loss = {'train': [], 'test': []}\n",
        "epochs = 20\n",
        "threshold = 0.001"
      ]
    },
    {
      "cell_type": "markdown",
      "source": [
        "<div dir='rtl' text-algin='justify'>\n",
        "\n",
        "در هر گام، به اندازه‌ی `batch size` به شبکه جهت یادگیری می‌دهیم،  خطا را محاسبه می‌کنیم و متناسب با آن پیش می‌رویم. پس از اتمام یادگیری، خطای آزمایش را هم محاسبه می‌کنیم.\n",
        "\n",
        "</div>"
      ],
      "metadata": {
        "id": "_agjvkx9Qhya"
      },
      "id": "_agjvkx9Qhya"
    },
    {
      "cell_type": "code",
      "execution_count": 12,
      "id": "528868cb-19cf-4029-8029-a22d47acb60a",
      "metadata": {
        "colab": {
          "base_uri": "https://localhost:8080/"
        },
        "id": "528868cb-19cf-4029-8029-a22d47acb60a",
        "outputId": "8bfb36cc-77eb-4a17-950f-aaf0db5847ca"
      },
      "outputs": [
        {
          "output_type": "stream",
          "name": "stdout",
          "text": [
            "[INFO] training the network...\n"
          ]
        },
        {
          "output_type": "stream",
          "name": "stderr",
          "text": [
            "100%|██████████| 1875/1875 [03:19<00:00,  9.41it/s]\n"
          ]
        },
        {
          "output_type": "stream",
          "name": "stdout",
          "text": [
            "[INFO] EPOCH: 1/20\n",
            "Train loss: 0.169682, Test loss: 0.0916\n"
          ]
        },
        {
          "output_type": "stream",
          "name": "stderr",
          "text": [
            "100%|██████████| 1875/1875 [03:19<00:00,  9.40it/s]\n"
          ]
        },
        {
          "output_type": "stream",
          "name": "stdout",
          "text": [
            "[INFO] EPOCH: 2/20\n",
            "Train loss: 0.069910, Test loss: 0.0548\n"
          ]
        },
        {
          "output_type": "stream",
          "name": "stderr",
          "text": [
            "100%|██████████| 1875/1875 [03:19<00:00,  9.40it/s]\n"
          ]
        },
        {
          "output_type": "stream",
          "name": "stdout",
          "text": [
            "[INFO] EPOCH: 3/20\n",
            "Train loss: 0.048714, Test loss: 0.0418\n"
          ]
        },
        {
          "output_type": "stream",
          "name": "stderr",
          "text": [
            "100%|██████████| 1875/1875 [03:19<00:00,  9.40it/s]\n"
          ]
        },
        {
          "output_type": "stream",
          "name": "stdout",
          "text": [
            "[INFO] EPOCH: 4/20\n",
            "Train loss: 0.039452, Test loss: 0.0351\n"
          ]
        },
        {
          "output_type": "stream",
          "name": "stderr",
          "text": [
            "100%|██████████| 1875/1875 [03:19<00:00,  9.42it/s]\n"
          ]
        },
        {
          "output_type": "stream",
          "name": "stdout",
          "text": [
            "[INFO] EPOCH: 5/20\n",
            "Train loss: 0.034141, Test loss: 0.0313\n"
          ]
        },
        {
          "output_type": "stream",
          "name": "stderr",
          "text": [
            "100%|██████████| 1875/1875 [03:19<00:00,  9.42it/s]\n"
          ]
        },
        {
          "output_type": "stream",
          "name": "stdout",
          "text": [
            "[INFO] EPOCH: 6/20\n",
            "Train loss: 0.030427, Test loss: 0.0304\n"
          ]
        },
        {
          "output_type": "stream",
          "name": "stderr",
          "text": [
            "100%|██████████| 1875/1875 [03:19<00:00,  9.42it/s]\n"
          ]
        },
        {
          "output_type": "stream",
          "name": "stdout",
          "text": [
            "[INFO] EPOCH: 7/20\n",
            "Train loss: 0.028388, Test loss: 0.0256\n"
          ]
        },
        {
          "output_type": "stream",
          "name": "stderr",
          "text": [
            "100%|██████████| 1875/1875 [03:19<00:00,  9.41it/s]\n"
          ]
        },
        {
          "output_type": "stream",
          "name": "stdout",
          "text": [
            "[INFO] EPOCH: 8/20\n",
            "Train loss: 0.026638, Test loss: 0.0274\n"
          ]
        },
        {
          "output_type": "stream",
          "name": "stderr",
          "text": [
            "100%|██████████| 1875/1875 [03:18<00:00,  9.43it/s]\n"
          ]
        },
        {
          "output_type": "stream",
          "name": "stdout",
          "text": [
            "[INFO] EPOCH: 9/20\n",
            "Train loss: 0.025089, Test loss: 0.0250\n"
          ]
        },
        {
          "output_type": "stream",
          "name": "stderr",
          "text": [
            "100%|██████████| 1875/1875 [03:18<00:00,  9.44it/s]\n"
          ]
        },
        {
          "output_type": "stream",
          "name": "stdout",
          "text": [
            "[INFO] EPOCH: 10/20\n",
            "Train loss: 0.024059, Test loss: 0.0227\n"
          ]
        },
        {
          "output_type": "stream",
          "name": "stderr",
          "text": [
            "100%|██████████| 1875/1875 [03:19<00:00,  9.42it/s]\n"
          ]
        },
        {
          "output_type": "stream",
          "name": "stdout",
          "text": [
            "[INFO] EPOCH: 11/20\n",
            "Train loss: 0.022801, Test loss: 0.0216\n"
          ]
        },
        {
          "output_type": "stream",
          "name": "stderr",
          "text": [
            "100%|██████████| 1875/1875 [03:19<00:00,  9.41it/s]\n"
          ]
        },
        {
          "output_type": "stream",
          "name": "stdout",
          "text": [
            "[INFO] EPOCH: 12/20\n",
            "Train loss: 0.022411, Test loss: 0.0213\n",
            "[INFO] total time taken to train the model: 2636.68s\n"
          ]
        }
      ],
      "source": [
        "print(\"[INFO] training the network...\")\n",
        "start_time = time.time()\n",
        "for epoch in range(epochs):\n",
        "    unet.train()\n",
        "    \n",
        "    train_loss = 0\n",
        "    test_loss = 0\n",
        "    for i, data in tqdm(enumerate(train_loader), total=train_steps):\n",
        "        inps, tars = data\n",
        "        inps, tars = inps.to(device), tars.to(device)\n",
        "        pred = unet(inps)\n",
        "        loss = loss_func(pred, tars)\n",
        "        \n",
        "        opt.zero_grad()\n",
        "        loss.backward()\n",
        "        opt.step()\n",
        "        \n",
        "        train_loss += loss\n",
        "    \n",
        "    with torch.no_grad():\n",
        "        unet.eval()\n",
        "        for inp, tar in test_loader:\n",
        "            inp, tar = inp.to(device), tar.to(device)\n",
        "            pred = unet(inp)\n",
        "            test_loss += loss_func(pred, tar)\n",
        "    \n",
        "    avg_train_loss = train_loss / train_steps\n",
        "    avg_test_loss = test_loss / test_steps\n",
        "    \n",
        "    total_loss['train'].append(avg_train_loss.cpu().detach().numpy())\n",
        "    total_loss['test'].append(avg_test_loss.cpu().detach().numpy())\n",
        "    print(\"[INFO] EPOCH: {}/{}\".format(epoch + 1, epochs))\n",
        "    print(\"Train loss: {:.6f}, Test loss: {:.4f}\".format(avg_train_loss, avg_test_loss))\n",
        "    if epoch != 0 and total_loss['train'][- 2] - total_loss['train'][- 1] < threshold:\n",
        "      break\n",
        "\n",
        "end_time = time.time()\n",
        "print(\"[INFO] total time taken to train the model: {:.2f}s\".format(end_time - start_time))"
      ]
    },
    {
      "cell_type": "markdown",
      "id": "f58c5d1f-6058-4752-bcf2-de7ccf00f9fe",
      "metadata": {
        "id": "f58c5d1f-6058-4752-bcf2-de7ccf00f9fe"
      },
      "source": [
        "<div dir=\"rtl\" text-align=\"justify\">\n",
        "\n",
        "ترسیم خطا‌ها و ذخیره‌ی تصویر و مدل\n",
        "==========================================\n",
        "\n",
        "</div>"
      ]
    },
    {
      "cell_type": "markdown",
      "source": [
        "<div dir='rtl' text-algin='justify'>\n",
        "\n",
        "همانگونه که می‌بیند مدل به خوبی پس از سپری کردن یک گام خطا را به خوبی کاهش داد و همینطور به سمت خطای بین ۲ تا ۳ درصد همگرا می‌شود. این نشان می‌دهد که `under-fit` نداریم. از طرفی با توجه به اینکه خطای آزمایش نیز مشابه خطای آموزش کم است نشان می‌دهد که احتمالا `over-fit` نداشتیم. در غیر اینصورت احتمالا لازم می‌شد که لایه‌های `dropout`نیز اضافه کنیم."
      ],
      "metadata": {
        "id": "Yyt0S_mGQ8-S"
      },
      "id": "Yyt0S_mGQ8-S"
    },
    {
      "cell_type": "code",
      "execution_count": 13,
      "id": "c449eb1a-94ec-4af9-991b-fe96753eb5ba",
      "metadata": {
        "colab": {
          "base_uri": "https://localhost:8080/",
          "height": 299
        },
        "id": "c449eb1a-94ec-4af9-991b-fe96753eb5ba",
        "outputId": "225c783b-dd49-4a37-bc15-847fff88f448"
      },
      "outputs": [
        {
          "output_type": "display_data",
          "data": {
            "image/png": "[encoded data removed]",
            "text/plain": [
              "<Figure size 432x288 with 1 Axes>"
            ]
          },
          "metadata": {}
        }
      ],
      "source": [
        "model_path = base_dir + 'model.pth'\n",
        "plot_path = base_dir + 'plot.png'\n",
        "plt.style.use(\"ggplot\")\n",
        "plt.figure()\n",
        "plt.plot(total_loss[\"train\"], label=\"train\")\n",
        "plt.plot(total_loss[\"test\"], label=\"test\")\n",
        "plt.title(\"Training Loss on Dataset\")\n",
        "plt.xlabel(\"Epoch #\")\n",
        "plt.ylabel(\"Loss\")\n",
        "plt.legend(loc=\"lower left\")\n",
        "plt.savefig(plot_path)\n",
        "# serialize the model to disk\n",
        "torch.save(unet, model_path)"
      ]
    },
    {
      "cell_type": "markdown",
      "source": [
        "<div dir=\"rtl\" text-align=\"justify\">\n",
        "\n",
        "در کل سه `batch_size` متفاوت با مقادیر ۱۶ و ۳۲ و ۶۴ بررسی شده‌اند. مقادیر `train_loss` و `test_loss` بسیار نزدیک بوده‌اند. برای مقدار ۸ و ۱۲۸ مقادیر بدتر از این موارد بودند برای همین از گزارش آن‌ها صرف‌نظر شده است.\n",
        "\n",
        "</div>"
      ],
      "metadata": {
        "id": "VQ6FsA7j8GZw"
      },
      "id": "VQ6FsA7j8GZw"
    },
    {
      "cell_type": "code",
      "source": [
        "batch_sz = (16, 32, 64)\n",
        "epochs = (9, 10, 11)\n",
        "final_train_loss = (2.6, 2.4, 2.6)\n",
        "final_test_loss = (2.5, 2.4, 2.6)\n",
        "plot_path = base_dir + 'batch.png'\n",
        "plt.figure()\n",
        "plt.plot(batch_sz, final_train_loss, label=\"train\")\n",
        "plt.plot(batch_sz, final_test_loss, label=\"test\")\n",
        "plt.plot(batch_sz, epochs, label=\"epoch\")\n",
        "plt.title(\"Training Loss on Dataset\")\n",
        "plt.xlabel(\"Batch size\")\n",
        "plt.ylabel(\"Loss\")\n",
        "plt.legend(loc=\"lower left\")\n",
        "plt.savefig(plot_path)"
      ],
      "metadata": {
        "colab": {
          "base_uri": "https://localhost:8080/",
          "height": 299
        },
        "id": "evU3cAljoRiO",
        "outputId": "dfe2e1c8-043f-4cde-94c1-57de3421221e"
      },
      "id": "evU3cAljoRiO",
      "execution_count": 14,
      "outputs": [
        {
          "output_type": "display_data",
          "data": {
            "image/png": "[encoded data removed]",
            "text/plain": [
              "<Figure size 432x288 with 1 Axes>"
            ]
          },
          "metadata": {}
        }
      ]
    },
    {
      "cell_type": "code",
      "source": [
        "unet.eval()\n",
        "total_sample = 16\n",
        "fig = plt.figure(figsize=(mnist_size, mnist_size))\n",
        "rand_idx = random.sample(range(0, (len(test_loader) - 1) * batch_size), total_sample)\n",
        "lables = ('Rotated', 'Original', 'Predicted')\n",
        "for i in range(total_sample):\n",
        "    inp, tar = test_loader.dataset[rand_idx[i]]\n",
        "    out = unet(inp.unsqueeze(1).to(device))\n",
        "    images = (inp, tar, out[0].cpu().detach())\n",
        "    for j in range(3):\n",
        "      plt.subplot(total_sample, 3, i * 3 + j + 1)\n",
        "      plt.tight_layout()\n",
        "      plt.imshow(images[j].squeeze(), cmap='gray', interpolation='none')\n",
        "      plt.title(\"{}\".format(lables[j]))\n",
        "      plt.xticks([])\n",
        "      plt.yticks([])\n",
        "    fig"
      ],
      "metadata": {
        "colab": {
          "base_uri": "https://localhost:8080/",
          "height": 1000
        },
        "id": "oNBkETbOoV47",
        "outputId": "c4d8fdc6-0fd1-4b18-bad9-7a550903df83"
      },
      "id": "oNBkETbOoV47",
      "execution_count": 16,
      "outputs": [
        {
          "output_type": "display_data",
          "data": {
            "image/png": "[encoded data removed]",
            "text/plain": [
              "<Figure size 2016x2016 with 48 Axes>"
            ]
          },
          "metadata": {}
        }
      ]
    }
  ],
  "metadata": {
    "kernelspec": {
      "display_name": "Python 3 (ipykernel)",
      "language": "python",
      "name": "python3"
    },
    "language_info": {
      "codemirror_mode": {
        "name": "ipython",
        "version": 3
      },
      "file_extension": ".py",
      "mimetype": "text/x-python",
      "name": "python",
      "nbconvert_exporter": "python",
      "pygments_lexer": "ipython3",
      "version": "3.9.7"
    },
    "colab": {
      "name": "UNet.ipynb",
      "provenance": [],
      "collapsed_sections": [],
      "include_colab_link": true
    },
    "widgets": {
      "application/vnd.jupyter.widget-state+json": {
        "2dc3b57e3f8448a3a9a15983c8248a88": {
          "model_module": "@jupyter-widgets/controls",
          "model_name": "HBoxModel",
          "model_module_version": "1.5.0",
          "state": {
            "_view_name": "HBoxView",
            "_dom_classes": [],
            "_model_name": "HBoxModel",
            "_view_module": "@jupyter-widgets/controls",
            "_model_module_version": "1.5.0",
            "_view_count": null,
            "_view_module_version": "1.5.0",
            "box_style": "",
            "layout": "IPY_MODEL_bff7963189ef4d7683e850db0e237c61",
            "_model_module": "@jupyter-widgets/controls",
            "children": [
              "IPY_MODEL_aee65a23db8f4da991a43143afa8be97",
              "IPY_MODEL_922967ef228e40f4912f0dc58166f742",
              "IPY_MODEL_e6de7263f56c40518703457b62f84b30"
            ]
          }
        },
        "bff7963189ef4d7683e850db0e237c61": {
          "model_module": "@jupyter-widgets/base",
          "model_name": "LayoutModel",
          "model_module_version": "1.2.0",
          "state": {
            "_view_name": "LayoutView",
            "grid_template_rows": null,
            "right": null,
            "justify_content": null,
            "_view_module": "@jupyter-widgets/base",
            "overflow": null,
            "_model_module_version": "1.2.0",
            "_view_count": null,
            "flex_flow": null,
            "width": null,
            "min_width": null,
            "border": null,
            "align_items": null,
            "bottom": null,
            "_model_module": "@jupyter-widgets/base",
            "top": null,
            "grid_column": null,
            "overflow_y": null,
            "overflow_x": null,
            "grid_auto_flow": null,
            "grid_area": null,
            "grid_template_columns": null,
            "flex": null,
            "_model_name": "LayoutModel",
            "justify_items": null,
            "grid_row": null,
            "max_height": null,
            "align_content": null,
            "visibility": null,
            "align_self": null,
            "height": null,
            "min_height": null,
            "padding": null,
            "grid_auto_rows": null,
            "grid_gap": null,
            "max_width": null,
            "order": null,
            "_view_module_version": "1.2.0",
            "grid_template_areas": null,
            "object_position": null,
            "object_fit": null,
            "grid_auto_columns": null,
            "margin": null,
            "display": null,
            "left": null
          }
        },
        "aee65a23db8f4da991a43143afa8be97": {
          "model_module": "@jupyter-widgets/controls",
          "model_name": "HTMLModel",
          "model_module_version": "1.5.0",
          "state": {
            "_view_name": "HTMLView",
            "style": "IPY_MODEL_c65b4bfeda4e4b50ae81344b65483c61",
            "_dom_classes": [],
            "description": "",
            "_model_name": "HTMLModel",
            "placeholder": "​",
            "_view_module": "@jupyter-widgets/controls",
            "_model_module_version": "1.5.0",
            "value": "",
            "_view_count": null,
            "_view_module_version": "1.5.0",
            "description_tooltip": null,
            "_model_module": "@jupyter-widgets/controls",
            "layout": "IPY_MODEL_a5e66abc155546959183c22255c8ade2"
          }
        },
        "922967ef228e40f4912f0dc58166f742": {
          "model_module": "@jupyter-widgets/controls",
          "model_name": "FloatProgressModel",
          "model_module_version": "1.5.0",
          "state": {
            "_view_name": "ProgressView",
            "style": "IPY_MODEL_45bba27b76b344598ef992cd8688bfbc",
            "_dom_classes": [],
            "description": "",
            "_model_name": "FloatProgressModel",
            "bar_style": "success",
            "max": 9912422,
            "_view_module": "@jupyter-widgets/controls",
            "_model_module_version": "1.5.0",
            "value": 9912422,
            "_view_count": null,
            "_view_module_version": "1.5.0",
            "orientation": "horizontal",
            "min": 0,
            "description_tooltip": null,
            "_model_module": "@jupyter-widgets/controls",
            "layout": "IPY_MODEL_7a30106922584bd1a966c27d1338864a"
          }
        },
        "e6de7263f56c40518703457b62f84b30": {
          "model_module": "@jupyter-widgets/controls",
          "model_name": "HTMLModel",
          "model_module_version": "1.5.0",
          "state": {
            "_view_name": "HTMLView",
            "style": "IPY_MODEL_a4ed1d7103e14f9a926275b93aca7ed1",
            "_dom_classes": [],
            "description": "",
            "_model_name": "HTMLModel",
            "placeholder": "​",
            "_view_module": "@jupyter-widgets/controls",
            "_model_module_version": "1.5.0",
            "value": " 9913344/? [00:00&lt;00:00, 24182175.37it/s]",
            "_view_count": null,
            "_view_module_version": "1.5.0",
            "description_tooltip": null,
            "_model_module": "@jupyter-widgets/controls",
            "layout": "IPY_MODEL_ca05f746b35a451e8fab83123605f285"
          }
        },
        "c65b4bfeda4e4b50ae81344b65483c61": {
          "model_module": "@jupyter-widgets/controls",
          "model_name": "DescriptionStyleModel",
          "model_module_version": "1.5.0",
          "state": {
            "_view_name": "StyleView",
            "_model_name": "DescriptionStyleModel",
            "description_width": "",
            "_view_module": "@jupyter-widgets/base",
            "_model_module_version": "1.5.0",
            "_view_count": null,
            "_view_module_version": "1.2.0",
            "_model_module": "@jupyter-widgets/controls"
          }
        },
        "a5e66abc155546959183c22255c8ade2": {
          "model_module": "@jupyter-widgets/base",
          "model_name": "LayoutModel",
          "model_module_version": "1.2.0",
          "state": {
            "_view_name": "LayoutView",
            "grid_template_rows": null,
            "right": null,
            "justify_content": null,
            "_view_module": "@jupyter-widgets/base",
            "overflow": null,
            "_model_module_version": "1.2.0",
            "_view_count": null,
            "flex_flow": null,
            "width": null,
            "min_width": null,
            "border": null,
            "align_items": null,
            "bottom": null,
            "_model_module": "@jupyter-widgets/base",
            "top": null,
            "grid_column": null,
            "overflow_y": null,
            "overflow_x": null,
            "grid_auto_flow": null,
            "grid_area": null,
            "grid_template_columns": null,
            "flex": null,
            "_model_name": "LayoutModel",
            "justify_items": null,
            "grid_row": null,
            "max_height": null,
            "align_content": null,
            "visibility": null,
            "align_self": null,
            "height": null,
            "min_height": null,
            "padding": null,
            "grid_auto_rows": null,
            "grid_gap": null,
            "max_width": null,
            "order": null,
            "_view_module_version": "1.2.0",
            "grid_template_areas": null,
            "object_position": null,
            "object_fit": null,
            "grid_auto_columns": null,
            "margin": null,
            "display": null,
            "left": null
          }
        },
        "45bba27b76b344598ef992cd8688bfbc": {
          "model_module": "@jupyter-widgets/controls",
          "model_name": "ProgressStyleModel",
          "model_module_version": "1.5.0",
          "state": {
            "_view_name": "StyleView",
            "_model_name": "ProgressStyleModel",
            "description_width": "",
            "_view_module": "@jupyter-widgets/base",
            "_model_module_version": "1.5.0",
            "_view_count": null,
            "_view_module_version": "1.2.0",
            "bar_color": null,
            "_model_module": "@jupyter-widgets/controls"
          }
        },
        "7a30106922584bd1a966c27d1338864a": {
          "model_module": "@jupyter-widgets/base",
          "model_name": "LayoutModel",
          "model_module_version": "1.2.0",
          "state": {
            "_view_name": "LayoutView",
            "grid_template_rows": null,
            "right": null,
            "justify_content": null,
            "_view_module": "@jupyter-widgets/base",
            "overflow": null,
            "_model_module_version": "1.2.0",
            "_view_count": null,
            "flex_flow": null,
            "width": null,
            "min_width": null,
            "border": null,
            "align_items": null,
            "bottom": null,
            "_model_module": "@jupyter-widgets/base",
            "top": null,
            "grid_column": null,
            "overflow_y": null,
            "overflow_x": null,
            "grid_auto_flow": null,
            "grid_area": null,
            "grid_template_columns": null,
            "flex": null,
            "_model_name": "LayoutModel",
            "justify_items": null,
            "grid_row": null,
            "max_height": null,
            "align_content": null,
            "visibility": null,
            "align_self": null,
            "height": null,
            "min_height": null,
            "padding": null,
            "grid_auto_rows": null,
            "grid_gap": null,
            "max_width": null,
            "order": null,
            "_view_module_version": "1.2.0",
            "grid_template_areas": null,
            "object_position": null,
            "object_fit": null,
            "grid_auto_columns": null,
            "margin": null,
            "display": null,
            "left": null
          }
        },
        "a4ed1d7103e14f9a926275b93aca7ed1": {
          "model_module": "@jupyter-widgets/controls",
          "model_name": "DescriptionStyleModel",
          "model_module_version": "1.5.0",
          "state": {
            "_view_name": "StyleView",
            "_model_name": "DescriptionStyleModel",
            "description_width": "",
            "_view_module": "@jupyter-widgets/base",
            "_model_module_version": "1.5.0",
            "_view_count": null,
            "_view_module_version": "1.2.0",
            "_model_module": "@jupyter-widgets/controls"
          }
        },
        "ca05f746b35a451e8fab83123605f285": {
          "model_module": "@jupyter-widgets/base",
          "model_name": "LayoutModel",
          "model_module_version": "1.2.0",
          "state": {
            "_view_name": "LayoutView",
            "grid_template_rows": null,
            "right": null,
            "justify_content": null,
            "_view_module": "@jupyter-widgets/base",
            "overflow": null,
            "_model_module_version": "1.2.0",
            "_view_count": null,
            "flex_flow": null,
            "width": null,
            "min_width": null,
            "border": null,
            "align_items": null,
            "bottom": null,
            "_model_module": "@jupyter-widgets/base",
            "top": null,
            "grid_column": null,
            "overflow_y": null,
            "overflow_x": null,
            "grid_auto_flow": null,
            "grid_area": null,
            "grid_template_columns": null,
            "flex": null,
            "_model_name": "LayoutModel",
            "justify_items": null,
            "grid_row": null,
            "max_height": null,
            "align_content": null,
            "visibility": null,
            "align_self": null,
            "height": null,
            "min_height": null,
            "padding": null,
            "grid_auto_rows": null,
            "grid_gap": null,
            "max_width": null,
            "order": null,
            "_view_module_version": "1.2.0",
            "grid_template_areas": null,
            "object_position": null,
            "object_fit": null,
            "grid_auto_columns": null,
            "margin": null,
            "display": null,
            "left": null
          }
        },
        "10047e4a86414968a33365f4814286fe": {
          "model_module": "@jupyter-widgets/controls",
          "model_name": "HBoxModel",
          "model_module_version": "1.5.0",
          "state": {
            "_view_name": "HBoxView",
            "_dom_classes": [],
            "_model_name": "HBoxModel",
            "_view_module": "@jupyter-widgets/controls",
            "_model_module_version": "1.5.0",
            "_view_count": null,
            "_view_module_version": "1.5.0",
            "box_style": "",
            "layout": "IPY_MODEL_eca3367b83494cd29de2c58b29a615cc",
            "_model_module": "@jupyter-widgets/controls",
            "children": [
              "IPY_MODEL_f1a5b5047b784759a9934d31fab9d872",
              "IPY_MODEL_b928dc28459e469cad8074e5e343a764",
              "IPY_MODEL_0412cae07b534fcdb08ada60c93242e7"
            ]
          }
        },
        "eca3367b83494cd29de2c58b29a615cc": {
          "model_module": "@jupyter-widgets/base",
          "model_name": "LayoutModel",
          "model_module_version": "1.2.0",
          "state": {
            "_view_name": "LayoutView",
            "grid_template_rows": null,
            "right": null,
            "justify_content": null,
            "_view_module": "@jupyter-widgets/base",
            "overflow": null,
            "_model_module_version": "1.2.0",
            "_view_count": null,
            "flex_flow": null,
            "width": null,
            "min_width": null,
            "border": null,
            "align_items": null,
            "bottom": null,
            "_model_module": "@jupyter-widgets/base",
            "top": null,
            "grid_column": null,
            "overflow_y": null,
            "overflow_x": null,
            "grid_auto_flow": null,
            "grid_area": null,
            "grid_template_columns": null,
            "flex": null,
            "_model_name": "LayoutModel",
            "justify_items": null,
            "grid_row": null,
            "max_height": null,
            "align_content": null,
            "visibility": null,
            "align_self": null,
            "height": null,
            "min_height": null,
            "padding": null,
            "grid_auto_rows": null,
            "grid_gap": null,
            "max_width": null,
            "order": null,
            "_view_module_version": "1.2.0",
            "grid_template_areas": null,
            "object_position": null,
            "object_fit": null,
            "grid_auto_columns": null,
            "margin": null,
            "display": null,
            "left": null
          }
        },
        "f1a5b5047b784759a9934d31fab9d872": {
          "model_module": "@jupyter-widgets/controls",
          "model_name": "HTMLModel",
          "model_module_version": "1.5.0",
          "state": {
            "_view_name": "HTMLView",
            "style": "IPY_MODEL_c8ff2a3e8a9f427cb3c71d2044ad412c",
            "_dom_classes": [],
            "description": "",
            "_model_name": "HTMLModel",
            "placeholder": "​",
            "_view_module": "@jupyter-widgets/controls",
            "_model_module_version": "1.5.0",
            "value": "",
            "_view_count": null,
            "_view_module_version": "1.5.0",
            "description_tooltip": null,
            "_model_module": "@jupyter-widgets/controls",
            "layout": "IPY_MODEL_94bd8d1f45d1474e93ff2613646d35ae"
          }
        },
        "b928dc28459e469cad8074e5e343a764": {
          "model_module": "@jupyter-widgets/controls",
          "model_name": "FloatProgressModel",
          "model_module_version": "1.5.0",
          "state": {
            "_view_name": "ProgressView",
            "style": "IPY_MODEL_d3558518ce344af3b02152f4abb854a8",
            "_dom_classes": [],
            "description": "",
            "_model_name": "FloatProgressModel",
            "bar_style": "success",
            "max": 28881,
            "_view_module": "@jupyter-widgets/controls",
            "_model_module_version": "1.5.0",
            "value": 28881,
            "_view_count": null,
            "_view_module_version": "1.5.0",
            "orientation": "horizontal",
            "min": 0,
            "description_tooltip": null,
            "_model_module": "@jupyter-widgets/controls",
            "layout": "IPY_MODEL_52cd5fe4bcae46fb9b57d76e22b17e65"
          }
        },
        "0412cae07b534fcdb08ada60c93242e7": {
          "model_module": "@jupyter-widgets/controls",
          "model_name": "HTMLModel",
          "model_module_version": "1.5.0",
          "state": {
            "_view_name": "HTMLView",
            "style": "IPY_MODEL_0d17d92d92264c9d9eabd0a6933097f2",
            "_dom_classes": [],
            "description": "",
            "_model_name": "HTMLModel",
            "placeholder": "​",
            "_view_module": "@jupyter-widgets/controls",
            "_model_module_version": "1.5.0",
            "value": " 29696/? [00:00&lt;00:00, 726249.99it/s]",
            "_view_count": null,
            "_view_module_version": "1.5.0",
            "description_tooltip": null,
            "_model_module": "@jupyter-widgets/controls",
            "layout": "IPY_MODEL_f3793e72d5c7424ab747f3b01f825fef"
          }
        },
        "c8ff2a3e8a9f427cb3c71d2044ad412c": {
          "model_module": "@jupyter-widgets/controls",
          "model_name": "DescriptionStyleModel",
          "model_module_version": "1.5.0",
          "state": {
            "_view_name": "StyleView",
            "_model_name": "DescriptionStyleModel",
            "description_width": "",
            "_view_module": "@jupyter-widgets/base",
            "_model_module_version": "1.5.0",
            "_view_count": null,
            "_view_module_version": "1.2.0",
            "_model_module": "@jupyter-widgets/controls"
          }
        },
        "94bd8d1f45d1474e93ff2613646d35ae": {
          "model_module": "@jupyter-widgets/base",
          "model_name": "LayoutModel",
          "model_module_version": "1.2.0",
          "state": {
            "_view_name": "LayoutView",
            "grid_template_rows": null,
            "right": null,
            "justify_content": null,
            "_view_module": "@jupyter-widgets/base",
            "overflow": null,
            "_model_module_version": "1.2.0",
            "_view_count": null,
            "flex_flow": null,
            "width": null,
            "min_width": null,
            "border": null,
            "align_items": null,
            "bottom": null,
            "_model_module": "@jupyter-widgets/base",
            "top": null,
            "grid_column": null,
            "overflow_y": null,
            "overflow_x": null,
            "grid_auto_flow": null,
            "grid_area": null,
            "grid_template_columns": null,
            "flex": null,
            "_model_name": "LayoutModel",
            "justify_items": null,
            "grid_row": null,
            "max_height": null,
            "align_content": null,
            "visibility": null,
            "align_self": null,
            "height": null,
            "min_height": null,
            "padding": null,
            "grid_auto_rows": null,
            "grid_gap": null,
            "max_width": null,
            "order": null,
            "_view_module_version": "1.2.0",
            "grid_template_areas": null,
            "object_position": null,
            "object_fit": null,
            "grid_auto_columns": null,
            "margin": null,
            "display": null,
            "left": null
          }
        },
        "d3558518ce344af3b02152f4abb854a8": {
          "model_module": "@jupyter-widgets/controls",
          "model_name": "ProgressStyleModel",
          "model_module_version": "1.5.0",
          "state": {
            "_view_name": "StyleView",
            "_model_name": "ProgressStyleModel",
            "description_width": "",
            "_view_module": "@jupyter-widgets/base",
            "_model_module_version": "1.5.0",
            "_view_count": null,
            "_view_module_version": "1.2.0",
            "bar_color": null,
            "_model_module": "@jupyter-widgets/controls"
          }
        },
        "52cd5fe4bcae46fb9b57d76e22b17e65": {
          "model_module": "@jupyter-widgets/base",
          "model_name": "LayoutModel",
          "model_module_version": "1.2.0",
          "state": {
            "_view_name": "LayoutView",
            "grid_template_rows": null,
            "right": null,
            "justify_content": null,
            "_view_module": "@jupyter-widgets/base",
            "overflow": null,
            "_model_module_version": "1.2.0",
            "_view_count": null,
            "flex_flow": null,
            "width": null,
            "min_width": null,
            "border": null,
            "align_items": null,
            "bottom": null,
            "_model_module": "@jupyter-widgets/base",
            "top": null,
            "grid_column": null,
            "overflow_y": null,
            "overflow_x": null,
            "grid_auto_flow": null,
            "grid_area": null,
            "grid_template_columns": null,
            "flex": null,
            "_model_name": "LayoutModel",
            "justify_items": null,
            "grid_row": null,
            "max_height": null,
            "align_content": null,
            "visibility": null,
            "align_self": null,
            "height": null,
            "min_height": null,
            "padding": null,
            "grid_auto_rows": null,
            "grid_gap": null,
            "max_width": null,
            "order": null,
            "_view_module_version": "1.2.0",
            "grid_template_areas": null,
            "object_position": null,
            "object_fit": null,
            "grid_auto_columns": null,
            "margin": null,
            "display": null,
            "left": null
          }
        },
        "0d17d92d92264c9d9eabd0a6933097f2": {
          "model_module": "@jupyter-widgets/controls",
          "model_name": "DescriptionStyleModel",
          "model_module_version": "1.5.0",
          "state": {
            "_view_name": "StyleView",
            "_model_name": "DescriptionStyleModel",
            "description_width": "",
            "_view_module": "@jupyter-widgets/base",
            "_model_module_version": "1.5.0",
            "_view_count": null,
            "_view_module_version": "1.2.0",
            "_model_module": "@jupyter-widgets/controls"
          }
        },
        "f3793e72d5c7424ab747f3b01f825fef": {
          "model_module": "@jupyter-widgets/base",
          "model_name": "LayoutModel",
          "model_module_version": "1.2.0",
          "state": {
            "_view_name": "LayoutView",
            "grid_template_rows": null,
            "right": null,
            "justify_content": null,
            "_view_module": "@jupyter-widgets/base",
            "overflow": null,
            "_model_module_version": "1.2.0",
            "_view_count": null,
            "flex_flow": null,
            "width": null,
            "min_width": null,
            "border": null,
            "align_items": null,
            "bottom": null,
            "_model_module": "@jupyter-widgets/base",
            "top": null,
            "grid_column": null,
            "overflow_y": null,
            "overflow_x": null,
            "grid_auto_flow": null,
            "grid_area": null,
            "grid_template_columns": null,
            "flex": null,
            "_model_name": "LayoutModel",
            "justify_items": null,
            "grid_row": null,
            "max_height": null,
            "align_content": null,
            "visibility": null,
            "align_self": null,
            "height": null,
            "min_height": null,
            "padding": null,
            "grid_auto_rows": null,
            "grid_gap": null,
            "max_width": null,
            "order": null,
            "_view_module_version": "1.2.0",
            "grid_template_areas": null,
            "object_position": null,
            "object_fit": null,
            "grid_auto_columns": null,
            "margin": null,
            "display": null,
            "left": null
          }
        },
        "c2bca70fb5b741b396dd5b33e3705ec8": {
          "model_module": "@jupyter-widgets/controls",
          "model_name": "HBoxModel",
          "model_module_version": "1.5.0",
          "state": {
            "_view_name": "HBoxView",
            "_dom_classes": [],
            "_model_name": "HBoxModel",
            "_view_module": "@jupyter-widgets/controls",
            "_model_module_version": "1.5.0",
            "_view_count": null,
            "_view_module_version": "1.5.0",
            "box_style": "",
            "layout": "IPY_MODEL_4c688c7e7d4e4778a55ff7fdd536a281",
            "_model_module": "@jupyter-widgets/controls",
            "children": [
              "IPY_MODEL_589d96d214824e1d99c03d7cc7a043a8",
              "IPY_MODEL_5186532cf1d84c539bd0638162b68f6c",
              "IPY_MODEL_a0c1eaaba52b49e99ada9f015d91ce24"
            ]
          }
        },
        "4c688c7e7d4e4778a55ff7fdd536a281": {
          "model_module": "@jupyter-widgets/base",
          "model_name": "LayoutModel",
          "model_module_version": "1.2.0",
          "state": {
            "_view_name": "LayoutView",
            "grid_template_rows": null,
            "right": null,
            "justify_content": null,
            "_view_module": "@jupyter-widgets/base",
            "overflow": null,
            "_model_module_version": "1.2.0",
            "_view_count": null,
            "flex_flow": null,
            "width": null,
            "min_width": null,
            "border": null,
            "align_items": null,
            "bottom": null,
            "_model_module": "@jupyter-widgets/base",
            "top": null,
            "grid_column": null,
            "overflow_y": null,
            "overflow_x": null,
            "grid_auto_flow": null,
            "grid_area": null,
            "grid_template_columns": null,
            "flex": null,
            "_model_name": "LayoutModel",
            "justify_items": null,
            "grid_row": null,
            "max_height": null,
            "align_content": null,
            "visibility": null,
            "align_self": null,
            "height": null,
            "min_height": null,
            "padding": null,
            "grid_auto_rows": null,
            "grid_gap": null,
            "max_width": null,
            "order": null,
            "_view_module_version": "1.2.0",
            "grid_template_areas": null,
            "object_position": null,
            "object_fit": null,
            "grid_auto_columns": null,
            "margin": null,
            "display": null,
            "left": null
          }
        },
        "589d96d214824e1d99c03d7cc7a043a8": {
          "model_module": "@jupyter-widgets/controls",
          "model_name": "HTMLModel",
          "model_module_version": "1.5.0",
          "state": {
            "_view_name": "HTMLView",
            "style": "IPY_MODEL_aaecdacb2b8943bda93046b0ec312835",
            "_dom_classes": [],
            "description": "",
            "_model_name": "HTMLModel",
            "placeholder": "​",
            "_view_module": "@jupyter-widgets/controls",
            "_model_module_version": "1.5.0",
            "value": "",
            "_view_count": null,
            "_view_module_version": "1.5.0",
            "description_tooltip": null,
            "_model_module": "@jupyter-widgets/controls",
            "layout": "IPY_MODEL_878a91257a5e4392ae76af43f714591a"
          }
        },
        "5186532cf1d84c539bd0638162b68f6c": {
          "model_module": "@jupyter-widgets/controls",
          "model_name": "FloatProgressModel",
          "model_module_version": "1.5.0",
          "state": {
            "_view_name": "ProgressView",
            "style": "IPY_MODEL_2a351491779840a5ae5d9b736c76546b",
            "_dom_classes": [],
            "description": "",
            "_model_name": "FloatProgressModel",
            "bar_style": "success",
            "max": 1648877,
            "_view_module": "@jupyter-widgets/controls",
            "_model_module_version": "1.5.0",
            "value": 1648877,
            "_view_count": null,
            "_view_module_version": "1.5.0",
            "orientation": "horizontal",
            "min": 0,
            "description_tooltip": null,
            "_model_module": "@jupyter-widgets/controls",
            "layout": "IPY_MODEL_d70af00977264133a4a6d8f89254c5f6"
          }
        },
        "a0c1eaaba52b49e99ada9f015d91ce24": {
          "model_module": "@jupyter-widgets/controls",
          "model_name": "HTMLModel",
          "model_module_version": "1.5.0",
          "state": {
            "_view_name": "HTMLView",
            "style": "IPY_MODEL_fb4ca6c22ef94f3086e10c7e9cdf7561",
            "_dom_classes": [],
            "description": "",
            "_model_name": "HTMLModel",
            "placeholder": "​",
            "_view_module": "@jupyter-widgets/controls",
            "_model_module_version": "1.5.0",
            "value": " 1649664/? [00:00&lt;00:00, 18581697.35it/s]",
            "_view_count": null,
            "_view_module_version": "1.5.0",
            "description_tooltip": null,
            "_model_module": "@jupyter-widgets/controls",
            "layout": "IPY_MODEL_4938b4b539ac43f1b920fb318bd5f0be"
          }
        },
        "aaecdacb2b8943bda93046b0ec312835": {
          "model_module": "@jupyter-widgets/controls",
          "model_name": "DescriptionStyleModel",
          "model_module_version": "1.5.0",
          "state": {
            "_view_name": "StyleView",
            "_model_name": "DescriptionStyleModel",
            "description_width": "",
            "_view_module": "@jupyter-widgets/base",
            "_model_module_version": "1.5.0",
            "_view_count": null,
            "_view_module_version": "1.2.0",
            "_model_module": "@jupyter-widgets/controls"
          }
        },
        "878a91257a5e4392ae76af43f714591a": {
          "model_module": "@jupyter-widgets/base",
          "model_name": "LayoutModel",
          "model_module_version": "1.2.0",
          "state": {
            "_view_name": "LayoutView",
            "grid_template_rows": null,
            "right": null,
            "justify_content": null,
            "_view_module": "@jupyter-widgets/base",
            "overflow": null,
            "_model_module_version": "1.2.0",
            "_view_count": null,
            "flex_flow": null,
            "width": null,
            "min_width": null,
            "border": null,
            "align_items": null,
            "bottom": null,
            "_model_module": "@jupyter-widgets/base",
            "top": null,
            "grid_column": null,
            "overflow_y": null,
            "overflow_x": null,
            "grid_auto_flow": null,
            "grid_area": null,
            "grid_template_columns": null,
            "flex": null,
            "_model_name": "LayoutModel",
            "justify_items": null,
            "grid_row": null,
            "max_height": null,
            "align_content": null,
            "visibility": null,
            "align_self": null,
            "height": null,
            "min_height": null,
            "padding": null,
            "grid_auto_rows": null,
            "grid_gap": null,
            "max_width": null,
            "order": null,
            "_view_module_version": "1.2.0",
            "grid_template_areas": null,
            "object_position": null,
            "object_fit": null,
            "grid_auto_columns": null,
            "margin": null,
            "display": null,
            "left": null
          }
        },
        "2a351491779840a5ae5d9b736c76546b": {
          "model_module": "@jupyter-widgets/controls",
          "model_name": "ProgressStyleModel",
          "model_module_version": "1.5.0",
          "state": {
            "_view_name": "StyleView",
            "_model_name": "ProgressStyleModel",
            "description_width": "",
            "_view_module": "@jupyter-widgets/base",
            "_model_module_version": "1.5.0",
            "_view_count": null,
            "_view_module_version": "1.2.0",
            "bar_color": null,
            "_model_module": "@jupyter-widgets/controls"
          }
        },
        "d70af00977264133a4a6d8f89254c5f6": {
          "model_module": "@jupyter-widgets/base",
          "model_name": "LayoutModel",
          "model_module_version": "1.2.0",
          "state": {
            "_view_name": "LayoutView",
            "grid_template_rows": null,
            "right": null,
            "justify_content": null,
            "_view_module": "@jupyter-widgets/base",
            "overflow": null,
            "_model_module_version": "1.2.0",
            "_view_count": null,
            "flex_flow": null,
            "width": null,
            "min_width": null,
            "border": null,
            "align_items": null,
            "bottom": null,
            "_model_module": "@jupyter-widgets/base",
            "top": null,
            "grid_column": null,
            "overflow_y": null,
            "overflow_x": null,
            "grid_auto_flow": null,
            "grid_area": null,
            "grid_template_columns": null,
            "flex": null,
            "_model_name": "LayoutModel",
            "justify_items": null,
            "grid_row": null,
            "max_height": null,
            "align_content": null,
            "visibility": null,
            "align_self": null,
            "height": null,
            "min_height": null,
            "padding": null,
            "grid_auto_rows": null,
            "grid_gap": null,
            "max_width": null,
            "order": null,
            "_view_module_version": "1.2.0",
            "grid_template_areas": null,
            "object_position": null,
            "object_fit": null,
            "grid_auto_columns": null,
            "margin": null,
            "display": null,
            "left": null
          }
        },
        "fb4ca6c22ef94f3086e10c7e9cdf7561": {
          "model_module": "@jupyter-widgets/controls",
          "model_name": "DescriptionStyleModel",
          "model_module_version": "1.5.0",
          "state": {
            "_view_name": "StyleView",
            "_model_name": "DescriptionStyleModel",
            "description_width": "",
            "_view_module": "@jupyter-widgets/base",
            "_model_module_version": "1.5.0",
            "_view_count": null,
            "_view_module_version": "1.2.0",
            "_model_module": "@jupyter-widgets/controls"
          }
        },
        "4938b4b539ac43f1b920fb318bd5f0be": {
          "model_module": "@jupyter-widgets/base",
          "model_name": "LayoutModel",
          "model_module_version": "1.2.0",
          "state": {
            "_view_name": "LayoutView",
            "grid_template_rows": null,
            "right": null,
            "justify_content": null,
            "_view_module": "@jupyter-widgets/base",
            "overflow": null,
            "_model_module_version": "1.2.0",
            "_view_count": null,
            "flex_flow": null,
            "width": null,
            "min_width": null,
            "border": null,
            "align_items": null,
            "bottom": null,
            "_model_module": "@jupyter-widgets/base",
            "top": null,
            "grid_column": null,
            "overflow_y": null,
            "overflow_x": null,
            "grid_auto_flow": null,
            "grid_area": null,
            "grid_template_columns": null,
            "flex": null,
            "_model_name": "LayoutModel",
            "justify_items": null,
            "grid_row": null,
            "max_height": null,
            "align_content": null,
            "visibility": null,
            "align_self": null,
            "height": null,
            "min_height": null,
            "padding": null,
            "grid_auto_rows": null,
            "grid_gap": null,
            "max_width": null,
            "order": null,
            "_view_module_version": "1.2.0",
            "grid_template_areas": null,
            "object_position": null,
            "object_fit": null,
            "grid_auto_columns": null,
            "margin": null,
            "display": null,
            "left": null
          }
        },
        "d5d06d83a3894bdeba886cf771dfe5d2": {
          "model_module": "@jupyter-widgets/controls",
          "model_name": "HBoxModel",
          "model_module_version": "1.5.0",
          "state": {
            "_view_name": "HBoxView",
            "_dom_classes": [],
            "_model_name": "HBoxModel",
            "_view_module": "@jupyter-widgets/controls",
            "_model_module_version": "1.5.0",
            "_view_count": null,
            "_view_module_version": "1.5.0",
            "box_style": "",
            "layout": "IPY_MODEL_02c798e0ba244263844510961296ba2c",
            "_model_module": "@jupyter-widgets/controls",
            "children": [
              "IPY_MODEL_3c3901768ea543c0837d4f4e364c9520",
              "IPY_MODEL_62b029ae324e4badafb0256769843ac6",
              "IPY_MODEL_08bd60d653564c41aa2f301e5d5907e1"
            ]
          }
        },
        "02c798e0ba244263844510961296ba2c": {
          "model_module": "@jupyter-widgets/base",
          "model_name": "LayoutModel",
          "model_module_version": "1.2.0",
          "state": {
            "_view_name": "LayoutView",
            "grid_template_rows": null,
            "right": null,
            "justify_content": null,
            "_view_module": "@jupyter-widgets/base",
            "overflow": null,
            "_model_module_version": "1.2.0",
            "_view_count": null,
            "flex_flow": null,
            "width": null,
            "min_width": null,
            "border": null,
            "align_items": null,
            "bottom": null,
            "_model_module": "@jupyter-widgets/base",
            "top": null,
            "grid_column": null,
            "overflow_y": null,
            "overflow_x": null,
            "grid_auto_flow": null,
            "grid_area": null,
            "grid_template_columns": null,
            "flex": null,
            "_model_name": "LayoutModel",
            "justify_items": null,
            "grid_row": null,
            "max_height": null,
            "align_content": null,
            "visibility": null,
            "align_self": null,
            "height": null,
            "min_height": null,
            "padding": null,
            "grid_auto_rows": null,
            "grid_gap": null,
            "max_width": null,
            "order": null,
            "_view_module_version": "1.2.0",
            "grid_template_areas": null,
            "object_position": null,
            "object_fit": null,
            "grid_auto_columns": null,
            "margin": null,
            "display": null,
            "left": null
          }
        },
        "3c3901768ea543c0837d4f4e364c9520": {
          "model_module": "@jupyter-widgets/controls",
          "model_name": "HTMLModel",
          "model_module_version": "1.5.0",
          "state": {
            "_view_name": "HTMLView",
            "style": "IPY_MODEL_3aec8df717eb4a24bfcdb6b704bb368f",
            "_dom_classes": [],
            "description": "",
            "_model_name": "HTMLModel",
            "placeholder": "​",
            "_view_module": "@jupyter-widgets/controls",
            "_model_module_version": "1.5.0",
            "value": "",
            "_view_count": null,
            "_view_module_version": "1.5.0",
            "description_tooltip": null,
            "_model_module": "@jupyter-widgets/controls",
            "layout": "IPY_MODEL_c1cd33e3d81646e390ef8d7ad75dbac0"
          }
        },
        "62b029ae324e4badafb0256769843ac6": {
          "model_module": "@jupyter-widgets/controls",
          "model_name": "FloatProgressModel",
          "model_module_version": "1.5.0",
          "state": {
            "_view_name": "ProgressView",
            "style": "IPY_MODEL_d70566e9febe4dcaab4be2f682335a2a",
            "_dom_classes": [],
            "description": "",
            "_model_name": "FloatProgressModel",
            "bar_style": "success",
            "max": 4542,
            "_view_module": "@jupyter-widgets/controls",
            "_model_module_version": "1.5.0",
            "value": 4542,
            "_view_count": null,
            "_view_module_version": "1.5.0",
            "orientation": "horizontal",
            "min": 0,
            "description_tooltip": null,
            "_model_module": "@jupyter-widgets/controls",
            "layout": "IPY_MODEL_d1eb499ff1f84b5e95a2c36646f9b38c"
          }
        },
        "08bd60d653564c41aa2f301e5d5907e1": {
          "model_module": "@jupyter-widgets/controls",
          "model_name": "HTMLModel",
          "model_module_version": "1.5.0",
          "state": {
            "_view_name": "HTMLView",
            "style": "IPY_MODEL_c3e3b4c851134e62b16731ba5fda6ab0",
            "_dom_classes": [],
            "description": "",
            "_model_name": "HTMLModel",
            "placeholder": "​",
            "_view_module": "@jupyter-widgets/controls",
            "_model_module_version": "1.5.0",
            "value": " 5120/? [00:00&lt;00:00, 88083.46it/s]",
            "_view_count": null,
            "_view_module_version": "1.5.0",
            "description_tooltip": null,
            "_model_module": "@jupyter-widgets/controls",
            "layout": "IPY_MODEL_fe3a6bb18fa2428f94076cdde5f51e6c"
          }
        },
        "3aec8df717eb4a24bfcdb6b704bb368f": {
          "model_module": "@jupyter-widgets/controls",
          "model_name": "DescriptionStyleModel",
          "model_module_version": "1.5.0",
          "state": {
            "_view_name": "StyleView",
            "_model_name": "DescriptionStyleModel",
            "description_width": "",
            "_view_module": "@jupyter-widgets/base",
            "_model_module_version": "1.5.0",
            "_view_count": null,
            "_view_module_version": "1.2.0",
            "_model_module": "@jupyter-widgets/controls"
          }
        },
        "c1cd33e3d81646e390ef8d7ad75dbac0": {
          "model_module": "@jupyter-widgets/base",
          "model_name": "LayoutModel",
          "model_module_version": "1.2.0",
          "state": {
            "_view_name": "LayoutView",
            "grid_template_rows": null,
            "right": null,
            "justify_content": null,
            "_view_module": "@jupyter-widgets/base",
            "overflow": null,
            "_model_module_version": "1.2.0",
            "_view_count": null,
            "flex_flow": null,
            "width": null,
            "min_width": null,
            "border": null,
            "align_items": null,
            "bottom": null,
            "_model_module": "@jupyter-widgets/base",
            "top": null,
            "grid_column": null,
            "overflow_y": null,
            "overflow_x": null,
            "grid_auto_flow": null,
            "grid_area": null,
            "grid_template_columns": null,
            "flex": null,
            "_model_name": "LayoutModel",
            "justify_items": null,
            "grid_row": null,
            "max_height": null,
            "align_content": null,
            "visibility": null,
            "align_self": null,
            "height": null,
            "min_height": null,
            "padding": null,
            "grid_auto_rows": null,
            "grid_gap": null,
            "max_width": null,
            "order": null,
            "_view_module_version": "1.2.0",
            "grid_template_areas": null,
            "object_position": null,
            "object_fit": null,
            "grid_auto_columns": null,
            "margin": null,
            "display": null,
            "left": null
          }
        },
        "d70566e9febe4dcaab4be2f682335a2a": {
          "model_module": "@jupyter-widgets/controls",
          "model_name": "ProgressStyleModel",
          "model_module_version": "1.5.0",
          "state": {
            "_view_name": "StyleView",
            "_model_name": "ProgressStyleModel",
            "description_width": "",
            "_view_module": "@jupyter-widgets/base",
            "_model_module_version": "1.5.0",
            "_view_count": null,
            "_view_module_version": "1.2.0",
            "bar_color": null,
            "_model_module": "@jupyter-widgets/controls"
          }
        },
        "d1eb499ff1f84b5e95a2c36646f9b38c": {
          "model_module": "@jupyter-widgets/base",
          "model_name": "LayoutModel",
          "model_module_version": "1.2.0",
          "state": {
            "_view_name": "LayoutView",
            "grid_template_rows": null,
            "right": null,
            "justify_content": null,
            "_view_module": "@jupyter-widgets/base",
            "overflow": null,
            "_model_module_version": "1.2.0",
            "_view_count": null,
            "flex_flow": null,
            "width": null,
            "min_width": null,
            "border": null,
            "align_items": null,
            "bottom": null,
            "_model_module": "@jupyter-widgets/base",
            "top": null,
            "grid_column": null,
            "overflow_y": null,
            "overflow_x": null,
            "grid_auto_flow": null,
            "grid_area": null,
            "grid_template_columns": null,
            "flex": null,
            "_model_name": "LayoutModel",
            "justify_items": null,
            "grid_row": null,
            "max_height": null,
            "align_content": null,
            "visibility": null,
            "align_self": null,
            "height": null,
            "min_height": null,
            "padding": null,
            "grid_auto_rows": null,
            "grid_gap": null,
            "max_width": null,
            "order": null,
            "_view_module_version": "1.2.0",
            "grid_template_areas": null,
            "object_position": null,
            "object_fit": null,
            "grid_auto_columns": null,
            "margin": null,
            "display": null,
            "left": null
          }
        },
        "c3e3b4c851134e62b16731ba5fda6ab0": {
          "model_module": "@jupyter-widgets/controls",
          "model_name": "DescriptionStyleModel",
          "model_module_version": "1.5.0",
          "state": {
            "_view_name": "StyleView",
            "_model_name": "DescriptionStyleModel",
            "description_width": "",
            "_view_module": "@jupyter-widgets/base",
            "_model_module_version": "1.5.0",
            "_view_count": null,
            "_view_module_version": "1.2.0",
            "_model_module": "@jupyter-widgets/controls"
          }
        },
        "fe3a6bb18fa2428f94076cdde5f51e6c": {
          "model_module": "@jupyter-widgets/base",
          "model_name": "LayoutModel",
          "model_module_version": "1.2.0",
          "state": {
            "_view_name": "LayoutView",
            "grid_template_rows": null,
            "right": null,
            "justify_content": null,
            "_view_module": "@jupyter-widgets/base",
            "overflow": null,
            "_model_module_version": "1.2.0",
            "_view_count": null,
            "flex_flow": null,
            "width": null,
            "min_width": null,
            "border": null,
            "align_items": null,
            "bottom": null,
            "_model_module": "@jupyter-widgets/base",
            "top": null,
            "grid_column": null,
            "overflow_y": null,
            "overflow_x": null,
            "grid_auto_flow": null,
            "grid_area": null,
            "grid_template_columns": null,
            "flex": null,
            "_model_name": "LayoutModel",
            "justify_items": null,
            "grid_row": null,
            "max_height": null,
            "align_content": null,
            "visibility": null,
            "align_self": null,
            "height": null,
            "min_height": null,
            "padding": null,
            "grid_auto_rows": null,
            "grid_gap": null,
            "max_width": null,
            "order": null,
            "_view_module_version": "1.2.0",
            "grid_template_areas": null,
            "object_position": null,
            "object_fit": null,
            "grid_auto_columns": null,
            "margin": null,
            "display": null,
            "left": null
          }
        }
      }
    },
    "accelerator": "GPU"
  },
  "nbformat": 4,
  "nbformat_minor": 5
}